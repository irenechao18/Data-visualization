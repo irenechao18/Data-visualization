{
 "cells": [
  {
   "cell_type": "code",
   "execution_count": 1,
   "metadata": {},
   "outputs": [],
   "source": [
    "from sklearn import datasets\n",
    "import pandas as pd\n",
    "import numpy as np"
   ]
  },
  {
   "cell_type": "code",
   "execution_count": 2,
   "metadata": {},
   "outputs": [
    {
     "name": "stdout",
     "output_type": "stream",
     "text": [
      "target_names: ['setosa' 'versicolor' 'virginica']\n"
     ]
    },
    {
     "data": {
      "text/html": [
       "<div>\n",
       "<style scoped>\n",
       "    .dataframe tbody tr th:only-of-type {\n",
       "        vertical-align: middle;\n",
       "    }\n",
       "\n",
       "    .dataframe tbody tr th {\n",
       "        vertical-align: top;\n",
       "    }\n",
       "\n",
       "    .dataframe thead th {\n",
       "        text-align: right;\n",
       "    }\n",
       "</style>\n",
       "<table border=\"1\" class=\"dataframe\">\n",
       "  <thead>\n",
       "    <tr style=\"text-align: right;\">\n",
       "      <th></th>\n",
       "      <th>sepal length (cm)</th>\n",
       "      <th>sepal width (cm)</th>\n",
       "      <th>petal length (cm)</th>\n",
       "      <th>petal width (cm)</th>\n",
       "      <th>target</th>\n",
       "    </tr>\n",
       "  </thead>\n",
       "  <tbody>\n",
       "    <tr>\n",
       "      <th>0</th>\n",
       "      <td>5.1</td>\n",
       "      <td>3.5</td>\n",
       "      <td>1.4</td>\n",
       "      <td>0.2</td>\n",
       "      <td>0</td>\n",
       "    </tr>\n",
       "    <tr>\n",
       "      <th>1</th>\n",
       "      <td>4.9</td>\n",
       "      <td>3.0</td>\n",
       "      <td>1.4</td>\n",
       "      <td>0.2</td>\n",
       "      <td>0</td>\n",
       "    </tr>\n",
       "    <tr>\n",
       "      <th>2</th>\n",
       "      <td>4.7</td>\n",
       "      <td>3.2</td>\n",
       "      <td>1.3</td>\n",
       "      <td>0.2</td>\n",
       "      <td>0</td>\n",
       "    </tr>\n",
       "  </tbody>\n",
       "</table>\n",
       "</div>"
      ],
      "text/plain": [
       "   sepal length (cm)  sepal width (cm)  petal length (cm)  petal width (cm)  \\\n",
       "0                5.1               3.5                1.4               0.2   \n",
       "1                4.9               3.0                1.4               0.2   \n",
       "2                4.7               3.2                1.3               0.2   \n",
       "\n",
       "   target  \n",
       "0       0  \n",
       "1       0  \n",
       "2       0  "
      ]
     },
     "execution_count": 2,
     "metadata": {},
     "output_type": "execute_result"
    }
   ],
   "source": [
    "iris=datasets.load_iris()\n",
    "x=pd.DataFrame(iris['data'], columns=iris['feature_names'])\n",
    "print(\"target_names: \"+str(iris['target_names']))\n",
    "y=pd.DataFrame(iris['target'], columns=['target'])\n",
    "iris_data=pd.concat([x,y], axis=1)\n",
    "iris_data.head(3)"
   ]
  },
  {
   "cell_type": "code",
   "execution_count": 3,
   "metadata": {},
   "outputs": [],
   "source": [
    "#一、Matplotlib\n",
    "import matplotlib.pyplot as plt"
   ]
  },
  {
   "cell_type": "code",
   "execution_count": 4,
   "metadata": {},
   "outputs": [],
   "source": [
    "%matplotlib inline"
   ]
  },
  {
   "cell_type": "code",
   "execution_count": 5,
   "metadata": {},
   "outputs": [
    {
     "data": {
      "text/plain": [
       "[<matplotlib.lines.Line2D at 0x7fdec4755f50>]"
      ]
     },
     "execution_count": 5,
     "metadata": {},
     "output_type": "execute_result"
    },
    {
     "data": {
      "image/png": "[encoded data removed]",
      "text/plain": [
       "<Figure size 432x288 with 1 Axes>"
      ]
     },
     "metadata": {
      "needs_background": "light"
     },
     "output_type": "display_data"
    }
   ],
   "source": [
    "#only y\n",
    "plt.plot([1, 2, 3, 4])"
   ]
  },
  {
   "cell_type": "code",
   "execution_count": 6,
   "metadata": {},
   "outputs": [
    {
     "data": {
      "text/plain": [
       "Text(0.5, 0, 'x label')"
      ]
     },
     "execution_count": 6,
     "metadata": {},
     "output_type": "execute_result"
    },
    {
     "data": {
      "image/png": "[encoded data removed]",
      "text/plain": [
       "<Figure size 432x288 with 1 Axes>"
      ]
     },
     "metadata": {
      "needs_background": "light"
     },
     "output_type": "display_data"
    }
   ],
   "source": [
    "#自訂x和y\n",
    "plt.plot([1, 2, 3, 4], [1, 4, 9, 16])\n",
    "plt.ylabel('y label')\n",
    "plt.xlabel('x label')"
   ]
  },
  {
   "cell_type": "code",
   "execution_count": 7,
   "metadata": {},
   "outputs": [
    {
     "data": {
      "text/plain": [
       "(0.0, 6.0, 0.0, 20.0)"
      ]
     },
     "execution_count": 7,
     "metadata": {},
     "output_type": "execute_result"
    },
    {
     "data": {
      "image/png": "[encoded data removed]",
      "text/plain": [
       "<Figure size 432x288 with 1 Axes>"
      ]
     },
     "metadata": {
      "needs_background": "light"
     },
     "output_type": "display_data"
    }
   ],
   "source": [
    "#改變線的形狀和顏色\n",
    "plt.plot([1, 2, 3, 4], [1, 4, 9, 16], 'ro')\n",
    "#設定軸的範圍\n",
    "plt.axis([0, 6, 0, 20])"
   ]
  },
  {
   "cell_type": "code",
   "execution_count": 8,
   "metadata": {},
   "outputs": [
    {
     "data": {
      "text/plain": [
       "[<matplotlib.lines.Line2D at 0x7fdec4a0c350>,\n",
       " <matplotlib.lines.Line2D at 0x7fdec4abca10>,\n",
       " <matplotlib.lines.Line2D at 0x7fdec4abcd10>]"
      ]
     },
     "execution_count": 8,
     "metadata": {},
     "output_type": "execute_result"
    },
    {
     "data": {
      "image/png": "[encoded data removed]",
      "text/plain": [
       "<Figure size 432x288 with 1 Axes>"
      ]
     },
     "metadata": {
      "needs_background": "light"
     },
     "output_type": "display_data"
    }
   ],
   "source": [
    "#一圖多線\n",
    "t=np.arange(0., 5., 0.2)\n",
    "plt.plot(t, t, 'r--', t, t**2, 'gs', t, t**3, 'b^')"
   ]
  },
  {
   "cell_type": "code",
   "execution_count": 9,
   "metadata": {},
   "outputs": [
    {
     "data": {
      "text/plain": [
       "<BarContainer object of 20 artists>"
      ]
     },
     "execution_count": 9,
     "metadata": {},
     "output_type": "execute_result"
    },
    {
     "data": {
      "image/png": "[encoded data removed]",
      "text/plain": [
       "<Figure size 432x288 with 1 Axes>"
      ]
     },
     "metadata": {
      "needs_background": "light"
     },
     "output_type": "display_data"
    }
   ],
   "source": [
    "#直方圖\n",
    "x=[3, 3, 4, 7, 7, 7, 8, 9, 9, 14, 14, 25, 27, 27, 27, 32, 32, 34, 36, 36]\n",
    "y=[2, 10, 6, 6, 23, 20, 26, 28, 16, 14, 12, 4, 10, 28, 24, 18, 9, 12, 10, 4]\n",
    "plt.bar(x, y)"
   ]
  },
  {
   "cell_type": "code",
   "execution_count": 10,
   "metadata": {},
   "outputs": [
    {
     "data": {
      "text/plain": [
       "<matplotlib.collections.PathCollection at 0x7fdec4c03410>"
      ]
     },
     "execution_count": 10,
     "metadata": {},
     "output_type": "execute_result"
    },
    {
     "data": {
      "image/png": "[encoded data removed]",
      "text/plain": [
       "<Figure size 432x288 with 1 Axes>"
      ]
     },
     "metadata": {
      "needs_background": "light"
     },
     "output_type": "display_data"
    }
   ],
   "source": [
    "#散布圖\n",
    "x=[3, 3, 4, 7, 7, 7, 8, 9, 9, 14, 14, 25, 27, 27, 27, 32, 32, 34, 36, 36]\n",
    "y=[2, 10, 6, 6, 23, 20, 26, 28, 16, 14, 12, 4, 10, 28, 24, 18, 9, 12, 10, 4]\n",
    "plt.scatter(x, y)"
   ]
  },
  {
   "cell_type": "code",
   "execution_count": 11,
   "metadata": {},
   "outputs": [],
   "source": [
    "#二、Pandas plot"
   ]
  },
  {
   "cell_type": "code",
   "execution_count": 12,
   "metadata": {},
   "outputs": [
    {
     "data": {
      "text/plain": [
       "<AxesSubplot:xlabel='sepal length (cm)', ylabel='petal length (cm)'>"
      ]
     },
     "execution_count": 12,
     "metadata": {},
     "output_type": "execute_result"
    },
    {
     "data": {
      "image/png": "[encoded data removed]",
      "text/plain": [
       "<Figure size 432x288 with 2 Axes>"
      ]
     },
     "metadata": {
      "needs_background": "light"
     },
     "output_type": "display_data"
    }
   ],
   "source": [
    "iris_data.plot.scatter(x='sepal length (cm)', y='petal length (cm)', c='target')"
   ]
  },
  {
   "cell_type": "code",
   "execution_count": 13,
   "metadata": {},
   "outputs": [],
   "source": [
    "#改顏色\n",
    "color={0:'g', 1:'r', 2:'b'}"
   ]
  },
  {
   "cell_type": "code",
   "execution_count": 14,
   "metadata": {},
   "outputs": [],
   "source": [
    "iris_data['color']=iris_data['target'].map(color)"
   ]
  },
  {
   "cell_type": "code",
   "execution_count": 15,
   "metadata": {},
   "outputs": [
    {
     "data": {
      "text/plain": [
       "<AxesSubplot:xlabel='sepal length (cm)', ylabel='petal length (cm)'>"
      ]
     },
     "execution_count": 15,
     "metadata": {},
     "output_type": "execute_result"
    },
    {
     "data": {
      "image/png": "[encoded data removed]",
      "text/plain": [
       "<Figure size 432x288 with 1 Axes>"
      ]
     },
     "metadata": {
      "needs_background": "light"
     },
     "output_type": "display_data"
    }
   ],
   "source": [
    "iris_data.plot.scatter(x='sepal length (cm)', y='petal length (cm)', c=iris_data['color'])"
   ]
  },
  {
   "cell_type": "code",
   "execution_count": 16,
   "metadata": {},
   "outputs": [
    {
     "data": {
      "text/plain": [
       "<AxesSubplot:xlabel='sepal length (cm)', ylabel='petal length (cm)'>"
      ]
     },
     "execution_count": 16,
     "metadata": {},
     "output_type": "execute_result"
    },
    {
     "data": {
      "image/png": "[encoded data removed]",
      "text/plain": [
       "<Figure size 432x288 with 1 Axes>"
      ]
     },
     "metadata": {
      "needs_background": "light"
     },
     "output_type": "display_data"
    },
    {
     "data": {
      "image/png": "[encoded data removed]",
      "text/plain": [
       "<Figure size 432x288 with 1 Axes>"
      ]
     },
     "metadata": {
      "needs_background": "light"
     },
     "output_type": "display_data"
    },
    {
     "data": {
      "image/png": "[encoded data removed]",
      "text/plain": [
       "<Figure size 432x288 with 1 Axes>"
      ]
     },
     "metadata": {
      "needs_background": "light"
     },
     "output_type": "display_data"
    }
   ],
   "source": [
    "#Add label\n",
    "iris_data[iris_data['target']==0].plot.scatter(x='sepal length (cm)', y='petal length (cm)', color='g', label='setosa')\n",
    "iris_data[iris_data['target']==1].plot.scatter(x='sepal length (cm)', y='petal length (cm)', color='r', label='versicolor')\n",
    "iris_data[iris_data['target']==2].plot.scatter(x='sepal length (cm)', y='petal length (cm)', color='b', label='virginica')"
   ]
  },
  {
   "cell_type": "code",
   "execution_count": 17,
   "metadata": {},
   "outputs": [
    {
     "data": {
      "text/plain": [
       "<AxesSubplot:xlabel='sepal length (cm)', ylabel='petal length (cm)'>"
      ]
     },
     "execution_count": 17,
     "metadata": {},
     "output_type": "execute_result"
    },
    {
     "data": {
      "image/png": "[encoded data removed]",
      "text/plain": [
       "<Figure size 432x288 with 1 Axes>"
      ]
     },
     "metadata": {
      "needs_background": "light"
     },
     "output_type": "display_data"
    }
   ],
   "source": [
    "#將圖合併,優化(透明度)\n",
    "ax=iris_data[iris_data['target']==0].plot.scatter(x='sepal length (cm)', y='petal length (cm)', alpha=0.5, color='g', label='setosa')\n",
    "ax=iris_data[iris_data['target']==1].plot.scatter(x='sepal length (cm)', y='petal length (cm)', alpha=0.5, color='r', label='versicolor', ax=ax)\n",
    "iris_data[iris_data['target']==2].plot.scatter(x='sepal length (cm)', y='petal length (cm)', alpha=0.5, color='b', label='virginica', ax=ax)"
   ]
  },
  {
   "cell_type": "code",
   "execution_count": 18,
   "metadata": {},
   "outputs": [],
   "source": [
    "#三、Seaborn"
   ]
  },
  {
   "cell_type": "code",
   "execution_count": 19,
   "metadata": {},
   "outputs": [],
   "source": [
    "import seaborn as sns"
   ]
  },
  {
   "cell_type": "code",
   "execution_count": 20,
   "metadata": {},
   "outputs": [
    {
     "name": "stderr",
     "output_type": "stream",
     "text": [
      "/Users/irene/opt/anaconda3/lib/python3.7/site-packages/seaborn/_decorators.py:43: FutureWarning: Pass the following variables as keyword args: x, y. From version 0.12, the only valid positional argument will be `data`, and passing other arguments without an explicit keyword will result in an error or misinterpretation.\n",
      "  FutureWarning\n"
     ]
    },
    {
     "data": {
      "text/plain": [
       "<seaborn.axisgrid.FacetGrid at 0x7fdec5532110>"
      ]
     },
     "execution_count": 20,
     "metadata": {},
     "output_type": "execute_result"
    },
    {
     "data": {
      "image/png": "[encoded data removed]",
      "text/plain": [
       "<Figure size 402.375x360 with 1 Axes>"
      ]
     },
     "metadata": {
      "needs_background": "light"
     },
     "output_type": "display_data"
    }
   ],
   "source": [
    "sns.lmplot('sepal length (cm)', 'petal length (cm)',data=iris_data, fit_reg=False, hue='target')"
   ]
  },
  {
   "cell_type": "code",
   "execution_count": 21,
   "metadata": {},
   "outputs": [],
   "source": [
    "target_name={0:'setosa', 1:'versicolor', 2:'virginica'}"
   ]
  },
  {
   "cell_type": "code",
   "execution_count": 22,
   "metadata": {},
   "outputs": [],
   "source": [
    "iris_data['target_name']=iris_data['target'].map(target_name)"
   ]
  },
  {
   "cell_type": "code",
   "execution_count": 23,
   "metadata": {},
   "outputs": [
    {
     "name": "stderr",
     "output_type": "stream",
     "text": [
      "/Users/irene/opt/anaconda3/lib/python3.7/site-packages/seaborn/_decorators.py:43: FutureWarning: Pass the following variables as keyword args: x, y. From version 0.12, the only valid positional argument will be `data`, and passing other arguments without an explicit keyword will result in an error or misinterpretation.\n",
      "  FutureWarning\n"
     ]
    },
    {
     "data": {
      "text/plain": [
       "<seaborn.axisgrid.FacetGrid at 0x7fdec5918ad0>"
      ]
     },
     "execution_count": 23,
     "metadata": {},
     "output_type": "execute_result"
    },
    {
     "data": {
      "image/png": "[encoded data removed]",
      "text/plain": [
       "<Figure size 444.75x360 with 1 Axes>"
      ]
     },
     "metadata": {
      "needs_background": "light"
     },
     "output_type": "display_data"
    }
   ],
   "source": [
    "sns.lmplot('sepal length (cm)', 'petal length (cm)',data=iris_data, fit_reg=False, hue='target_name')"
   ]
  },
  {
   "cell_type": "code",
   "execution_count": 24,
   "metadata": {},
   "outputs": [],
   "source": [
    "#四、Plotly"
   ]
  },
  {
   "cell_type": "code",
   "execution_count": 25,
   "metadata": {
    "scrolled": true
   },
   "outputs": [
    {
     "data": {
      "text/html": [
       "        <script type=\"text/javascript\">\n",
       "        window.PlotlyConfig = {MathJaxConfig: 'local'};\n",
       "        if (window.MathJax) {MathJax.Hub.Config({SVG: {font: \"STIX-Web\"}});}\n",
       "        if (typeof require !== 'undefined') {\n",
       "        require.undef(\"plotly\");\n",
       "        requirejs.config({\n",
       "            paths: {\n",
       "                'plotly': ['https://cdn.plot.ly/plotly-2.1.0.min']\n",
       "            }\n",
       "        });\n",
       "        require(['plotly'], function(Plotly) {\n",
       "            window._Plotly = Plotly;\n",
       "        });\n",
       "        }\n",
       "        </script>\n",
       "        "
      ]
     },
     "metadata": {},
     "output_type": "display_data"
    },
    {
     "data": {
      "application/vnd.plotly.v1+json": {
       "config": {
        "linkText": "Export to plot.ly",
        "plotlyServerURL": "https://plot.ly",
        "showLink": false
       },
       "data": [
        {
         "type": "scatter",
         "x": [
          1,
          2,
          3,
          4
         ],
         "y": [
          4,
          3,
          2,
          1
         ]
        }
       ],
       "layout": {
        "template": {
         "data": {
          "bar": [
           {
            "error_x": {
             "color": "#2a3f5f"
            },
            "error_y": {
             "color": "#2a3f5f"
            },
            "marker": {
             "line": {
              "color": "#E5ECF6",
              "width": 0.5
             },
             "pattern": {
              "fillmode": "overlay",
              "size": 10,
              "solidity": 0.2
             }
            },
            "type": "bar"
           }
          ],
          "barpolar": [
           {
            "marker": {
             "line": {
              "color": "#E5ECF6",
              "width": 0.5
             },
             "pattern": {
              "fillmode": "overlay",
              "size": 10,
              "solidity": 0.2
             }
            },
            "type": "barpolar"
           }
          ],
          "carpet": [
           {
            "aaxis": {
             "endlinecolor": "#2a3f5f",
             "gridcolor": "white",
             "linecolor": "white",
             "minorgridcolor": "white",
             "startlinecolor": "#2a3f5f"
            },
            "baxis": {
             "endlinecolor": "#2a3f5f",
             "gridcolor": "white",
             "linecolor": "white",
             "minorgridcolor": "white",
             "startlinecolor": "#2a3f5f"
            },
            "type": "carpet"
           }
          ],
          "choropleth": [
           {
            "colorbar": {
             "outlinewidth": 0,
             "ticks": ""
            },
            "type": "choropleth"
           }
          ],
          "contour": [
           {
            "colorbar": {
             "outlinewidth": 0,
             "ticks": ""
            },
            "colorscale": [
             [
              0,
              "#0d0887"
             ],
             [
              0.1111111111111111,
              "#46039f"
             ],
             [
              0.2222222222222222,
              "#7201a8"
             ],
             [
              0.3333333333333333,
              "#9c179e"
             ],
             [
              0.4444444444444444,
              "#bd3786"
             ],
             [
              0.5555555555555556,
              "#d8576b"
             ],
             [
              0.6666666666666666,
              "#ed7953"
             ],
             [
              0.7777777777777778,
              "#fb9f3a"
             ],
             [
              0.8888888888888888,
              "#fdca26"
             ],
             [
              1,
              "#f0f921"
             ]
            ],
            "type": "contour"
           }
          ],
          "contourcarpet": [
           {
            "colorbar": {
             "outlinewidth": 0,
             "ticks": ""
            },
            "type": "contourcarpet"
           }
          ],
          "heatmap": [
           {
            "colorbar": {
             "outlinewidth": 0,
             "ticks": ""
            },
            "colorscale": [
             [
              0,
              "#0d0887"
             ],
             [
              0.1111111111111111,
              "#46039f"
             ],
             [
              0.2222222222222222,
              "#7201a8"
             ],
             [
              0.3333333333333333,
              "#9c179e"
             ],
             [
              0.4444444444444444,
              "#bd3786"
             ],
             [
              0.5555555555555556,
              "#d8576b"
             ],
             [
              0.6666666666666666,
              "#ed7953"
             ],
             [
              0.7777777777777778,
              "#fb9f3a"
             ],
             [
              0.8888888888888888,
              "#fdca26"
             ],
             [
              1,
              "#f0f921"
             ]
            ],
            "type": "heatmap"
           }
          ],
          "heatmapgl": [
           {
            "colorbar": {
             "outlinewidth": 0,
             "ticks": ""
            },
            "colorscale": [
             [
              0,
              "#0d0887"
             ],
             [
              0.1111111111111111,
              "#46039f"
             ],
             [
              0.2222222222222222,
              "#7201a8"
             ],
             [
              0.3333333333333333,
              "#9c179e"
             ],
             [
              0.4444444444444444,
              "#bd3786"
             ],
             [
              0.5555555555555556,
              "#d8576b"
             ],
             [
              0.6666666666666666,
              "#ed7953"
             ],
             [
              0.7777777777777778,
              "#fb9f3a"
             ],
             [
              0.8888888888888888,
              "#fdca26"
             ],
             [
              1,
              "#f0f921"
             ]
            ],
            "type": "heatmapgl"
           }
          ],
          "histogram": [
           {
            "marker": {
             "pattern": {
              "fillmode": "overlay",
              "size": 10,
              "solidity": 0.2
             }
            },
            "type": "histogram"
           }
          ],
          "histogram2d": [
           {
            "colorbar": {
             "outlinewidth": 0,
             "ticks": ""
            },
            "colorscale": [
             [
              0,
              "#0d0887"
             ],
             [
              0.1111111111111111,
              "#46039f"
             ],
             [
              0.2222222222222222,
              "#7201a8"
             ],
             [
              0.3333333333333333,
              "#9c179e"
             ],
             [
              0.4444444444444444,
              "#bd3786"
             ],
             [
              0.5555555555555556,
              "#d8576b"
             ],
             [
              0.6666666666666666,
              "#ed7953"
             ],
             [
              0.7777777777777778,
              "#fb9f3a"
             ],
             [
              0.8888888888888888,
              "#fdca26"
             ],
             [
              1,
              "#f0f921"
             ]
            ],
            "type": "histogram2d"
           }
          ],
          "histogram2dcontour": [
           {
            "colorbar": {
             "outlinewidth": 0,
             "ticks": ""
            },
            "colorscale": [
             [
              0,
              "#0d0887"
             ],
             [
              0.1111111111111111,
              "#46039f"
             ],
             [
              0.2222222222222222,
              "#7201a8"
             ],
             [
              0.3333333333333333,
              "#9c179e"
             ],
             [
              0.4444444444444444,
              "#bd3786"
             ],
             [
              0.5555555555555556,
              "#d8576b"
             ],
             [
              0.6666666666666666,
              "#ed7953"
             ],
             [
              0.7777777777777778,
              "#fb9f3a"
             ],
             [
              0.8888888888888888,
              "#fdca26"
             ],
             [
              1,
              "#f0f921"
             ]
            ],
            "type": "histogram2dcontour"
           }
          ],
          "mesh3d": [
           {
            "colorbar": {
             "outlinewidth": 0,
             "ticks": ""
            },
            "type": "mesh3d"
           }
          ],
          "parcoords": [
           {
            "line": {
             "colorbar": {
              "outlinewidth": 0,
              "ticks": ""
             }
            },
            "type": "parcoords"
           }
          ],
          "pie": [
           {
            "automargin": true,
            "type": "pie"
           }
          ],
          "scatter": [
           {
            "marker": {
             "colorbar": {
              "outlinewidth": 0,
              "ticks": ""
             }
            },
            "type": "scatter"
           }
          ],
          "scatter3d": [
           {
            "line": {
             "colorbar": {
              "outlinewidth": 0,
              "ticks": ""
             }
            },
            "marker": {
             "colorbar": {
              "outlinewidth": 0,
              "ticks": ""
             }
            },
            "type": "scatter3d"
           }
          ],
          "scattercarpet": [
           {
            "marker": {
             "colorbar": {
              "outlinewidth": 0,
              "ticks": ""
             }
            },
            "type": "scattercarpet"
           }
          ],
          "scattergeo": [
           {
            "marker": {
             "colorbar": {
              "outlinewidth": 0,
              "ticks": ""
             }
            },
            "type": "scattergeo"
           }
          ],
          "scattergl": [
           {
            "marker": {
             "colorbar": {
              "outlinewidth": 0,
              "ticks": ""
             }
            },
            "type": "scattergl"
           }
          ],
          "scattermapbox": [
           {
            "marker": {
             "colorbar": {
              "outlinewidth": 0,
              "ticks": ""
             }
            },
            "type": "scattermapbox"
           }
          ],
          "scatterpolar": [
           {
            "marker": {
             "colorbar": {
              "outlinewidth": 0,
              "ticks": ""
             }
            },
            "type": "scatterpolar"
           }
          ],
          "scatterpolargl": [
           {
            "marker": {
             "colorbar": {
              "outlinewidth": 0,
              "ticks": ""
             }
            },
            "type": "scatterpolargl"
           }
          ],
          "scatterternary": [
           {
            "marker": {
             "colorbar": {
              "outlinewidth": 0,
              "ticks": ""
             }
            },
            "type": "scatterternary"
           }
          ],
          "surface": [
           {
            "colorbar": {
             "outlinewidth": 0,
             "ticks": ""
            },
            "colorscale": [
             [
              0,
              "#0d0887"
             ],
             [
              0.1111111111111111,
              "#46039f"
             ],
             [
              0.2222222222222222,
              "#7201a8"
             ],
             [
              0.3333333333333333,
              "#9c179e"
             ],
             [
              0.4444444444444444,
              "#bd3786"
             ],
             [
              0.5555555555555556,
              "#d8576b"
             ],
             [
              0.6666666666666666,
              "#ed7953"
             ],
             [
              0.7777777777777778,
              "#fb9f3a"
             ],
             [
              0.8888888888888888,
              "#fdca26"
             ],
             [
              1,
              "#f0f921"
             ]
            ],
            "type": "surface"
           }
          ],
          "table": [
           {
            "cells": {
             "fill": {
              "color": "#EBF0F8"
             },
             "line": {
              "color": "white"
             }
            },
            "header": {
             "fill": {
              "color": "#C8D4E3"
             },
             "line": {
              "color": "white"
             }
            },
            "type": "table"
           }
          ]
         },
         "layout": {
          "annotationdefaults": {
           "arrowcolor": "#2a3f5f",
           "arrowhead": 0,
           "arrowwidth": 1
          },
          "autotypenumbers": "strict",
          "coloraxis": {
           "colorbar": {
            "outlinewidth": 0,
            "ticks": ""
           }
          },
          "colorscale": {
           "diverging": [
            [
             0,
             "#8e0152"
            ],
            [
             0.1,
             "#c51b7d"
            ],
            [
             0.2,
             "#de77ae"
            ],
            [
             0.3,
             "#f1b6da"
            ],
            [
             0.4,
             "#fde0ef"
            ],
            [
             0.5,
             "#f7f7f7"
            ],
            [
             0.6,
             "#e6f5d0"
            ],
            [
             0.7,
             "#b8e186"
            ],
            [
             0.8,
             "#7fbc41"
            ],
            [
             0.9,
             "#4d9221"
            ],
            [
             1,
             "#276419"
            ]
           ],
           "sequential": [
            [
             0,
             "#0d0887"
            ],
            [
             0.1111111111111111,
             "#46039f"
            ],
            [
             0.2222222222222222,
             "#7201a8"
            ],
            [
             0.3333333333333333,
             "#9c179e"
            ],
            [
             0.4444444444444444,
             "#bd3786"
            ],
            [
             0.5555555555555556,
             "#d8576b"
            ],
            [
             0.6666666666666666,
             "#ed7953"
            ],
            [
             0.7777777777777778,
             "#fb9f3a"
            ],
            [
             0.8888888888888888,
             "#fdca26"
            ],
            [
             1,
             "#f0f921"
            ]
           ],
           "sequentialminus": [
            [
             0,
             "#0d0887"
            ],
            [
             0.1111111111111111,
             "#46039f"
            ],
            [
             0.2222222222222222,
             "#7201a8"
            ],
            [
             0.3333333333333333,
             "#9c179e"
            ],
            [
             0.4444444444444444,
             "#bd3786"
            ],
            [
             0.5555555555555556,
             "#d8576b"
            ],
            [
             0.6666666666666666,
             "#ed7953"
            ],
            [
             0.7777777777777778,
             "#fb9f3a"
            ],
            [
             0.8888888888888888,
             "#fdca26"
            ],
            [
             1,
             "#f0f921"
            ]
           ]
          },
          "colorway": [
           "#636efa",
           "#EF553B",
           "#00cc96",
           "#ab63fa",
           "#FFA15A",
           "#19d3f3",
           "#FF6692",
           "#B6E880",
           "#FF97FF",
           "#FECB52"
          ],
          "font": {
           "color": "#2a3f5f"
          },
          "geo": {
           "bgcolor": "white",
           "lakecolor": "white",
           "landcolor": "#E5ECF6",
           "showlakes": true,
           "showland": true,
           "subunitcolor": "white"
          },
          "hoverlabel": {
           "align": "left"
          },
          "hovermode": "closest",
          "mapbox": {
           "style": "light"
          },
          "paper_bgcolor": "white",
          "plot_bgcolor": "#E5ECF6",
          "polar": {
           "angularaxis": {
            "gridcolor": "white",
            "linecolor": "white",
            "ticks": ""
           },
           "bgcolor": "#E5ECF6",
           "radialaxis": {
            "gridcolor": "white",
            "linecolor": "white",
            "ticks": ""
           }
          },
          "scene": {
           "xaxis": {
            "backgroundcolor": "#E5ECF6",
            "gridcolor": "white",
            "gridwidth": 2,
            "linecolor": "white",
            "showbackground": true,
            "ticks": "",
            "zerolinecolor": "white"
           },
           "yaxis": {
            "backgroundcolor": "#E5ECF6",
            "gridcolor": "white",
            "gridwidth": 2,
            "linecolor": "white",
            "showbackground": true,
            "ticks": "",
            "zerolinecolor": "white"
           },
           "zaxis": {
            "backgroundcolor": "#E5ECF6",
            "gridcolor": "white",
            "gridwidth": 2,
            "linecolor": "white",
            "showbackground": true,
            "ticks": "",
            "zerolinecolor": "white"
           }
          },
          "shapedefaults": {
           "line": {
            "color": "#2a3f5f"
           }
          },
          "ternary": {
           "aaxis": {
            "gridcolor": "white",
            "linecolor": "white",
            "ticks": ""
           },
           "baxis": {
            "gridcolor": "white",
            "linecolor": "white",
            "ticks": ""
           },
           "bgcolor": "#E5ECF6",
           "caxis": {
            "gridcolor": "white",
            "linecolor": "white",
            "ticks": ""
           }
          },
          "title": {
           "x": 0.05
          },
          "xaxis": {
           "automargin": true,
           "gridcolor": "white",
           "linecolor": "white",
           "ticks": "",
           "title": {
            "standoff": 15
           },
           "zerolinecolor": "white",
           "zerolinewidth": 2
          },
          "yaxis": {
           "automargin": true,
           "gridcolor": "white",
           "linecolor": "white",
           "ticks": "",
           "title": {
            "standoff": 15
           },
           "zerolinecolor": "white",
           "zerolinewidth": 2
          }
         }
        },
        "title": {
         "text": "test"
        }
       }
      },
      "text/html": [
       "<div>                            <div id=\"9ca6a5cd-a382-4f54-9db7-eefde6838596\" class=\"plotly-graph-div\" style=\"height:525px; width:100%;\"></div>            <script type=\"text/javascript\">                require([\"plotly\"], function(Plotly) {                    window.PLOTLYENV=window.PLOTLYENV || {};                                    if (document.getElementById(\"9ca6a5cd-a382-4f54-9db7-eefde6838596\")) {                    Plotly.newPlot(                        \"9ca6a5cd-a382-4f54-9db7-eefde6838596\",                        [{\"type\":\"scatter\",\"x\":[1,2,3,4],\"y\":[4,3,2,1]}],                        {\"template\":{\"data\":{\"bar\":[{\"error_x\":{\"color\":\"#2a3f5f\"},\"error_y\":{\"color\":\"#2a3f5f\"},\"marker\":{\"line\":{\"color\":\"#E5ECF6\",\"width\":0.5},\"pattern\":{\"fillmode\":\"overlay\",\"size\":10,\"solidity\":0.2}},\"type\":\"bar\"}],\"barpolar\":[{\"marker\":{\"line\":{\"color\":\"#E5ECF6\",\"width\":0.5},\"pattern\":{\"fillmode\":\"overlay\",\"size\":10,\"solidity\":0.2}},\"type\":\"barpolar\"}],\"carpet\":[{\"aaxis\":{\"endlinecolor\":\"#2a3f5f\",\"gridcolor\":\"white\",\"linecolor\":\"white\",\"minorgridcolor\":\"white\",\"startlinecolor\":\"#2a3f5f\"},\"baxis\":{\"endlinecolor\":\"#2a3f5f\",\"gridcolor\":\"white\",\"linecolor\":\"white\",\"minorgridcolor\":\"white\",\"startlinecolor\":\"#2a3f5f\"},\"type\":\"carpet\"}],\"choropleth\":[{\"colorbar\":{\"outlinewidth\":0,\"ticks\":\"\"},\"type\":\"choropleth\"}],\"contour\":[{\"colorbar\":{\"outlinewidth\":0,\"ticks\":\"\"},\"colorscale\":[[0.0,\"#0d0887\"],[0.1111111111111111,\"#46039f\"],[0.2222222222222222,\"#7201a8\"],[0.3333333333333333,\"#9c179e\"],[0.4444444444444444,\"#bd3786\"],[0.5555555555555556,\"#d8576b\"],[0.6666666666666666,\"#ed7953\"],[0.7777777777777778,\"#fb9f3a\"],[0.8888888888888888,\"#fdca26\"],[1.0,\"#f0f921\"]],\"type\":\"contour\"}],\"contourcarpet\":[{\"colorbar\":{\"outlinewidth\":0,\"ticks\":\"\"},\"type\":\"contourcarpet\"}],\"heatmap\":[{\"colorbar\":{\"outlinewidth\":0,\"ticks\":\"\"},\"colorscale\":[[0.0,\"#0d0887\"],[0.1111111111111111,\"#46039f\"],[0.2222222222222222,\"#7201a8\"],[0.3333333333333333,\"#9c179e\"],[0.4444444444444444,\"#bd3786\"],[0.5555555555555556,\"#d8576b\"],[0.6666666666666666,\"#ed7953\"],[0.7777777777777778,\"#fb9f3a\"],[0.8888888888888888,\"#fdca26\"],[1.0,\"#f0f921\"]],\"type\":\"heatmap\"}],\"heatmapgl\":[{\"colorbar\":{\"outlinewidth\":0,\"ticks\":\"\"},\"colorscale\":[[0.0,\"#0d0887\"],[0.1111111111111111,\"#46039f\"],[0.2222222222222222,\"#7201a8\"],[0.3333333333333333,\"#9c179e\"],[0.4444444444444444,\"#bd3786\"],[0.5555555555555556,\"#d8576b\"],[0.6666666666666666,\"#ed7953\"],[0.7777777777777778,\"#fb9f3a\"],[0.8888888888888888,\"#fdca26\"],[1.0,\"#f0f921\"]],\"type\":\"heatmapgl\"}],\"histogram\":[{\"marker\":{\"pattern\":{\"fillmode\":\"overlay\",\"size\":10,\"solidity\":0.2}},\"type\":\"histogram\"}],\"histogram2d\":[{\"colorbar\":{\"outlinewidth\":0,\"ticks\":\"\"},\"colorscale\":[[0.0,\"#0d0887\"],[0.1111111111111111,\"#46039f\"],[0.2222222222222222,\"#7201a8\"],[0.3333333333333333,\"#9c179e\"],[0.4444444444444444,\"#bd3786\"],[0.5555555555555556,\"#d8576b\"],[0.6666666666666666,\"#ed7953\"],[0.7777777777777778,\"#fb9f3a\"],[0.8888888888888888,\"#fdca26\"],[1.0,\"#f0f921\"]],\"type\":\"histogram2d\"}],\"histogram2dcontour\":[{\"colorbar\":{\"outlinewidth\":0,\"ticks\":\"\"},\"colorscale\":[[0.0,\"#0d0887\"],[0.1111111111111111,\"#46039f\"],[0.2222222222222222,\"#7201a8\"],[0.3333333333333333,\"#9c179e\"],[0.4444444444444444,\"#bd3786\"],[0.5555555555555556,\"#d8576b\"],[0.6666666666666666,\"#ed7953\"],[0.7777777777777778,\"#fb9f3a\"],[0.8888888888888888,\"#fdca26\"],[1.0,\"#f0f921\"]],\"type\":\"histogram2dcontour\"}],\"mesh3d\":[{\"colorbar\":{\"outlinewidth\":0,\"ticks\":\"\"},\"type\":\"mesh3d\"}],\"parcoords\":[{\"line\":{\"colorbar\":{\"outlinewidth\":0,\"ticks\":\"\"}},\"type\":\"parcoords\"}],\"pie\":[{\"automargin\":true,\"type\":\"pie\"}],\"scatter\":[{\"marker\":{\"colorbar\":{\"outlinewidth\":0,\"ticks\":\"\"}},\"type\":\"scatter\"}],\"scatter3d\":[{\"line\":{\"colorbar\":{\"outlinewidth\":0,\"ticks\":\"\"}},\"marker\":{\"colorbar\":{\"outlinewidth\":0,\"ticks\":\"\"}},\"type\":\"scatter3d\"}],\"scattercarpet\":[{\"marker\":{\"colorbar\":{\"outlinewidth\":0,\"ticks\":\"\"}},\"type\":\"scattercarpet\"}],\"scattergeo\":[{\"marker\":{\"colorbar\":{\"outlinewidth\":0,\"ticks\":\"\"}},\"type\":\"scattergeo\"}],\"scattergl\":[{\"marker\":{\"colorbar\":{\"outlinewidth\":0,\"ticks\":\"\"}},\"type\":\"scattergl\"}],\"scattermapbox\":[{\"marker\":{\"colorbar\":{\"outlinewidth\":0,\"ticks\":\"\"}},\"type\":\"scattermapbox\"}],\"scatterpolar\":[{\"marker\":{\"colorbar\":{\"outlinewidth\":0,\"ticks\":\"\"}},\"type\":\"scatterpolar\"}],\"scatterpolargl\":[{\"marker\":{\"colorbar\":{\"outlinewidth\":0,\"ticks\":\"\"}},\"type\":\"scatterpolargl\"}],\"scatterternary\":[{\"marker\":{\"colorbar\":{\"outlinewidth\":0,\"ticks\":\"\"}},\"type\":\"scatterternary\"}],\"surface\":[{\"colorbar\":{\"outlinewidth\":0,\"ticks\":\"\"},\"colorscale\":[[0.0,\"#0d0887\"],[0.1111111111111111,\"#46039f\"],[0.2222222222222222,\"#7201a8\"],[0.3333333333333333,\"#9c179e\"],[0.4444444444444444,\"#bd3786\"],[0.5555555555555556,\"#d8576b\"],[0.6666666666666666,\"#ed7953\"],[0.7777777777777778,\"#fb9f3a\"],[0.8888888888888888,\"#fdca26\"],[1.0,\"#f0f921\"]],\"type\":\"surface\"}],\"table\":[{\"cells\":{\"fill\":{\"color\":\"#EBF0F8\"},\"line\":{\"color\":\"white\"}},\"header\":{\"fill\":{\"color\":\"#C8D4E3\"},\"line\":{\"color\":\"white\"}},\"type\":\"table\"}]},\"layout\":{\"annotationdefaults\":{\"arrowcolor\":\"#2a3f5f\",\"arrowhead\":0,\"arrowwidth\":1},\"autotypenumbers\":\"strict\",\"coloraxis\":{\"colorbar\":{\"outlinewidth\":0,\"ticks\":\"\"}},\"colorscale\":{\"diverging\":[[0,\"#8e0152\"],[0.1,\"#c51b7d\"],[0.2,\"#de77ae\"],[0.3,\"#f1b6da\"],[0.4,\"#fde0ef\"],[0.5,\"#f7f7f7\"],[0.6,\"#e6f5d0\"],[0.7,\"#b8e186\"],[0.8,\"#7fbc41\"],[0.9,\"#4d9221\"],[1,\"#276419\"]],\"sequential\":[[0.0,\"#0d0887\"],[0.1111111111111111,\"#46039f\"],[0.2222222222222222,\"#7201a8\"],[0.3333333333333333,\"#9c179e\"],[0.4444444444444444,\"#bd3786\"],[0.5555555555555556,\"#d8576b\"],[0.6666666666666666,\"#ed7953\"],[0.7777777777777778,\"#fb9f3a\"],[0.8888888888888888,\"#fdca26\"],[1.0,\"#f0f921\"]],\"sequentialminus\":[[0.0,\"#0d0887\"],[0.1111111111111111,\"#46039f\"],[0.2222222222222222,\"#7201a8\"],[0.3333333333333333,\"#9c179e\"],[0.4444444444444444,\"#bd3786\"],[0.5555555555555556,\"#d8576b\"],[0.6666666666666666,\"#ed7953\"],[0.7777777777777778,\"#fb9f3a\"],[0.8888888888888888,\"#fdca26\"],[1.0,\"#f0f921\"]]},\"colorway\":[\"#636efa\",\"#EF553B\",\"#00cc96\",\"#ab63fa\",\"#FFA15A\",\"#19d3f3\",\"#FF6692\",\"#B6E880\",\"#FF97FF\",\"#FECB52\"],\"font\":{\"color\":\"#2a3f5f\"},\"geo\":{\"bgcolor\":\"white\",\"lakecolor\":\"white\",\"landcolor\":\"#E5ECF6\",\"showlakes\":true,\"showland\":true,\"subunitcolor\":\"white\"},\"hoverlabel\":{\"align\":\"left\"},\"hovermode\":\"closest\",\"mapbox\":{\"style\":\"light\"},\"paper_bgcolor\":\"white\",\"plot_bgcolor\":\"#E5ECF6\",\"polar\":{\"angularaxis\":{\"gridcolor\":\"white\",\"linecolor\":\"white\",\"ticks\":\"\"},\"bgcolor\":\"#E5ECF6\",\"radialaxis\":{\"gridcolor\":\"white\",\"linecolor\":\"white\",\"ticks\":\"\"}},\"scene\":{\"xaxis\":{\"backgroundcolor\":\"#E5ECF6\",\"gridcolor\":\"white\",\"gridwidth\":2,\"linecolor\":\"white\",\"showbackground\":true,\"ticks\":\"\",\"zerolinecolor\":\"white\"},\"yaxis\":{\"backgroundcolor\":\"#E5ECF6\",\"gridcolor\":\"white\",\"gridwidth\":2,\"linecolor\":\"white\",\"showbackground\":true,\"ticks\":\"\",\"zerolinecolor\":\"white\"},\"zaxis\":{\"backgroundcolor\":\"#E5ECF6\",\"gridcolor\":\"white\",\"gridwidth\":2,\"linecolor\":\"white\",\"showbackground\":true,\"ticks\":\"\",\"zerolinecolor\":\"white\"}},\"shapedefaults\":{\"line\":{\"color\":\"#2a3f5f\"}},\"ternary\":{\"aaxis\":{\"gridcolor\":\"white\",\"linecolor\":\"white\",\"ticks\":\"\"},\"baxis\":{\"gridcolor\":\"white\",\"linecolor\":\"white\",\"ticks\":\"\"},\"bgcolor\":\"#E5ECF6\",\"caxis\":{\"gridcolor\":\"white\",\"linecolor\":\"white\",\"ticks\":\"\"}},\"title\":{\"x\":0.05},\"xaxis\":{\"automargin\":true,\"gridcolor\":\"white\",\"linecolor\":\"white\",\"ticks\":\"\",\"title\":{\"standoff\":15},\"zerolinecolor\":\"white\",\"zerolinewidth\":2},\"yaxis\":{\"automargin\":true,\"gridcolor\":\"white\",\"linecolor\":\"white\",\"ticks\":\"\",\"title\":{\"standoff\":15},\"zerolinecolor\":\"white\",\"zerolinewidth\":2}}},\"title\":{\"text\":\"test\"}},                        {\"responsive\": true}                    ).then(function(){\n",
       "                            \n",
       "var gd = document.getElementById('9ca6a5cd-a382-4f54-9db7-eefde6838596');\n",
       "var x = new MutationObserver(function (mutations, observer) {{\n",
       "        var display = window.getComputedStyle(gd).display;\n",
       "        if (!display || display === 'none') {{\n",
       "            console.log([gd, 'removed!']);\n",
       "            Plotly.purge(gd);\n",
       "            observer.disconnect();\n",
       "        }}\n",
       "}});\n",
       "\n",
       "// Listen for the removal of the full notebook cells\n",
       "var notebookContainer = gd.closest('#notebook-container');\n",
       "if (notebookContainer) {{\n",
       "    x.observe(notebookContainer, {childList: true});\n",
       "}}\n",
       "\n",
       "// Listen for the clearing of the current output cell\n",
       "var outputEl = gd.closest('.output');\n",
       "if (outputEl) {{\n",
       "    x.observe(outputEl, {childList: true});\n",
       "}}\n",
       "\n",
       "                        })                };                });            </script>        </div>"
      ]
     },
     "metadata": {},
     "output_type": "display_data"
    }
   ],
   "source": [
    "#折線圖\n",
    "import plotly\n",
    "from plotly.graph_objs import Scatter, Layout\n",
    "plotly.offline.init_notebook_mode(connected=True)\n",
    "plotly.offline.iplot({\"data\": [Scatter(x=[1, 2, 3, 4], y=[4, 3, 2, 1])], \"layout\": Layout(title=\"test\")})"
   ]
  },
  {
   "cell_type": "code",
   "execution_count": 26,
   "metadata": {},
   "outputs": [],
   "source": [
    "#散布圖\n",
    "from chart_studio import plotly\n",
    "import plotly.offline as pyoff\n",
    "import plotly.graph_objs as go\n",
    "import numpy as np"
   ]
  },
  {
   "cell_type": "code",
   "execution_count": 29,
   "metadata": {},
   "outputs": [
    {
     "data": {
      "application/vnd.plotly.v1+json": {
       "config": {
        "linkText": "Export to plot.ly",
        "plotlyServerURL": "https://plot.ly",
        "showLink": false
       },
       "data": [
        {
         "mode": "markers",
         "name": "setosa",
         "type": "scatter",
         "x": [
          5.1,
          4.9,
          4.7,
          4.6,
          5,
          5.4,
          4.6,
          5,
          4.4,
          4.9,
          5.4,
          4.8,
          4.8,
          4.3,
          5.8,
          5.7,
          5.4,
          5.1,
          5.7,
          5.1,
          5.4,
          5.1,
          4.6,
          5.1,
          4.8,
          5,
          5,
          5.2,
          5.2,
          4.7,
          4.8,
          5.4,
          5.2,
          5.5,
          4.9,
          5,
          5.5,
          4.9,
          4.4,
          5.1,
          5,
          4.5,
          4.4,
          5,
          5.1,
          4.8,
          5.1,
          4.6,
          5.3,
          5
         ],
         "y": [
          1.4,
          1.4,
          1.3,
          1.5,
          1.4,
          1.7,
          1.4,
          1.5,
          1.4,
          1.5,
          1.5,
          1.6,
          1.4,
          1.1,
          1.2,
          1.5,
          1.3,
          1.4,
          1.7,
          1.5,
          1.7,
          1.5,
          1,
          1.7,
          1.9,
          1.6,
          1.6,
          1.5,
          1.4,
          1.6,
          1.6,
          1.5,
          1.5,
          1.4,
          1.5,
          1.2,
          1.3,
          1.4,
          1.3,
          1.5,
          1.3,
          1.3,
          1.3,
          1.6,
          1.9,
          1.4,
          1.6,
          1.4,
          1.5,
          1.4
         ]
        },
        {
         "mode": "markers",
         "name": "versicolor",
         "type": "scatter",
         "x": [
          7,
          6.4,
          6.9,
          5.5,
          6.5,
          5.7,
          6.3,
          4.9,
          6.6,
          5.2,
          5,
          5.9,
          6,
          6.1,
          5.6,
          6.7,
          5.6,
          5.8,
          6.2,
          5.6,
          5.9,
          6.1,
          6.3,
          6.1,
          6.4,
          6.6,
          6.8,
          6.7,
          6,
          5.7,
          5.5,
          5.5,
          5.8,
          6,
          5.4,
          6,
          6.7,
          6.3,
          5.6,
          5.5,
          5.5,
          6.1,
          5.8,
          5,
          5.6,
          5.7,
          5.7,
          6.2,
          5.1,
          5.7
         ],
         "y": [
          4.7,
          4.5,
          4.9,
          4,
          4.6,
          4.5,
          4.7,
          3.3,
          4.6,
          3.9,
          3.5,
          4.2,
          4,
          4.7,
          3.6,
          4.4,
          4.5,
          4.1,
          4.5,
          3.9,
          4.8,
          4,
          4.9,
          4.7,
          4.3,
          4.4,
          4.8,
          5,
          4.5,
          3.5,
          3.8,
          3.7,
          3.9,
          5.1,
          4.5,
          4.5,
          4.7,
          4.4,
          4.1,
          4,
          4.4,
          4.6,
          4,
          3.3,
          4.2,
          4.2,
          4.2,
          4.3,
          3,
          4.1
         ]
        },
        {
         "mode": "markers",
         "name": "virginica",
         "type": "scatter",
         "x": [
          6.3,
          5.8,
          7.1,
          6.3,
          6.5,
          7.6,
          4.9,
          7.3,
          6.7,
          7.2,
          6.5,
          6.4,
          6.8,
          5.7,
          5.8,
          6.4,
          6.5,
          7.7,
          7.7,
          6,
          6.9,
          5.6,
          7.7,
          6.3,
          6.7,
          7.2,
          6.2,
          6.1,
          6.4,
          7.2,
          7.4,
          7.9,
          6.4,
          6.3,
          6.1,
          7.7,
          6.3,
          6.4,
          6,
          6.9,
          6.7,
          6.9,
          5.8,
          6.8,
          6.7,
          6.7,
          6.3,
          6.5,
          6.2,
          5.9
         ],
         "y": [
          6,
          5.1,
          5.9,
          5.6,
          5.8,
          6.6,
          4.5,
          6.3,
          5.8,
          6.1,
          5.1,
          5.3,
          5.5,
          5,
          5.1,
          5.3,
          5.5,
          6.7,
          6.9,
          5,
          5.7,
          4.9,
          6.7,
          4.9,
          5.7,
          6,
          4.8,
          4.9,
          5.6,
          5.8,
          6.1,
          6.4,
          5.6,
          5.1,
          5.6,
          6.1,
          5.6,
          5.5,
          4.8,
          5.4,
          5.6,
          5.1,
          5.1,
          5.9,
          5.7,
          5.2,
          5,
          5.2,
          5.4,
          5.1
         ]
        }
       ],
       "layout": {
        "template": {
         "data": {
          "bar": [
           {
            "error_x": {
             "color": "#2a3f5f"
            },
            "error_y": {
             "color": "#2a3f5f"
            },
            "marker": {
             "line": {
              "color": "#E5ECF6",
              "width": 0.5
             },
             "pattern": {
              "fillmode": "overlay",
              "size": 10,
              "solidity": 0.2
             }
            },
            "type": "bar"
           }
          ],
          "barpolar": [
           {
            "marker": {
             "line": {
              "color": "#E5ECF6",
              "width": 0.5
             },
             "pattern": {
              "fillmode": "overlay",
              "size": 10,
              "solidity": 0.2
             }
            },
            "type": "barpolar"
           }
          ],
          "carpet": [
           {
            "aaxis": {
             "endlinecolor": "#2a3f5f",
             "gridcolor": "white",
             "linecolor": "white",
             "minorgridcolor": "white",
             "startlinecolor": "#2a3f5f"
            },
            "baxis": {
             "endlinecolor": "#2a3f5f",
             "gridcolor": "white",
             "linecolor": "white",
             "minorgridcolor": "white",
             "startlinecolor": "#2a3f5f"
            },
            "type": "carpet"
           }
          ],
          "choropleth": [
           {
            "colorbar": {
             "outlinewidth": 0,
             "ticks": ""
            },
            "type": "choropleth"
           }
          ],
          "contour": [
           {
            "colorbar": {
             "outlinewidth": 0,
             "ticks": ""
            },
            "colorscale": [
             [
              0,
              "#0d0887"
             ],
             [
              0.1111111111111111,
              "#46039f"
             ],
             [
              0.2222222222222222,
              "#7201a8"
             ],
             [
              0.3333333333333333,
              "#9c179e"
             ],
             [
              0.4444444444444444,
              "#bd3786"
             ],
             [
              0.5555555555555556,
              "#d8576b"
             ],
             [
              0.6666666666666666,
              "#ed7953"
             ],
             [
              0.7777777777777778,
              "#fb9f3a"
             ],
             [
              0.8888888888888888,
              "#fdca26"
             ],
             [
              1,
              "#f0f921"
             ]
            ],
            "type": "contour"
           }
          ],
          "contourcarpet": [
           {
            "colorbar": {
             "outlinewidth": 0,
             "ticks": ""
            },
            "type": "contourcarpet"
           }
          ],
          "heatmap": [
           {
            "colorbar": {
             "outlinewidth": 0,
             "ticks": ""
            },
            "colorscale": [
             [
              0,
              "#0d0887"
             ],
             [
              0.1111111111111111,
              "#46039f"
             ],
             [
              0.2222222222222222,
              "#7201a8"
             ],
             [
              0.3333333333333333,
              "#9c179e"
             ],
             [
              0.4444444444444444,
              "#bd3786"
             ],
             [
              0.5555555555555556,
              "#d8576b"
             ],
             [
              0.6666666666666666,
              "#ed7953"
             ],
             [
              0.7777777777777778,
              "#fb9f3a"
             ],
             [
              0.8888888888888888,
              "#fdca26"
             ],
             [
              1,
              "#f0f921"
             ]
            ],
            "type": "heatmap"
           }
          ],
          "heatmapgl": [
           {
            "colorbar": {
             "outlinewidth": 0,
             "ticks": ""
            },
            "colorscale": [
             [
              0,
              "#0d0887"
             ],
             [
              0.1111111111111111,
              "#46039f"
             ],
             [
              0.2222222222222222,
              "#7201a8"
             ],
             [
              0.3333333333333333,
              "#9c179e"
             ],
             [
              0.4444444444444444,
              "#bd3786"
             ],
             [
              0.5555555555555556,
              "#d8576b"
             ],
             [
              0.6666666666666666,
              "#ed7953"
             ],
             [
              0.7777777777777778,
              "#fb9f3a"
             ],
             [
              0.8888888888888888,
              "#fdca26"
             ],
             [
              1,
              "#f0f921"
             ]
            ],
            "type": "heatmapgl"
           }
          ],
          "histogram": [
           {
            "marker": {
             "pattern": {
              "fillmode": "overlay",
              "size": 10,
              "solidity": 0.2
             }
            },
            "type": "histogram"
           }
          ],
          "histogram2d": [
           {
            "colorbar": {
             "outlinewidth": 0,
             "ticks": ""
            },
            "colorscale": [
             [
              0,
              "#0d0887"
             ],
             [
              0.1111111111111111,
              "#46039f"
             ],
             [
              0.2222222222222222,
              "#7201a8"
             ],
             [
              0.3333333333333333,
              "#9c179e"
             ],
             [
              0.4444444444444444,
              "#bd3786"
             ],
             [
              0.5555555555555556,
              "#d8576b"
             ],
             [
              0.6666666666666666,
              "#ed7953"
             ],
             [
              0.7777777777777778,
              "#fb9f3a"
             ],
             [
              0.8888888888888888,
              "#fdca26"
             ],
             [
              1,
              "#f0f921"
             ]
            ],
            "type": "histogram2d"
           }
          ],
          "histogram2dcontour": [
           {
            "colorbar": {
             "outlinewidth": 0,
             "ticks": ""
            },
            "colorscale": [
             [
              0,
              "#0d0887"
             ],
             [
              0.1111111111111111,
              "#46039f"
             ],
             [
              0.2222222222222222,
              "#7201a8"
             ],
             [
              0.3333333333333333,
              "#9c179e"
             ],
             [
              0.4444444444444444,
              "#bd3786"
             ],
             [
              0.5555555555555556,
              "#d8576b"
             ],
             [
              0.6666666666666666,
              "#ed7953"
             ],
             [
              0.7777777777777778,
              "#fb9f3a"
             ],
             [
              0.8888888888888888,
              "#fdca26"
             ],
             [
              1,
              "#f0f921"
             ]
            ],
            "type": "histogram2dcontour"
           }
          ],
          "mesh3d": [
           {
            "colorbar": {
             "outlinewidth": 0,
             "ticks": ""
            },
            "type": "mesh3d"
           }
          ],
          "parcoords": [
           {
            "line": {
             "colorbar": {
              "outlinewidth": 0,
              "ticks": ""
             }
            },
            "type": "parcoords"
           }
          ],
          "pie": [
           {
            "automargin": true,
            "type": "pie"
           }
          ],
          "scatter": [
           {
            "marker": {
             "colorbar": {
              "outlinewidth": 0,
              "ticks": ""
             }
            },
            "type": "scatter"
           }
          ],
          "scatter3d": [
           {
            "line": {
             "colorbar": {
              "outlinewidth": 0,
              "ticks": ""
             }
            },
            "marker": {
             "colorbar": {
              "outlinewidth": 0,
              "ticks": ""
             }
            },
            "type": "scatter3d"
           }
          ],
          "scattercarpet": [
           {
            "marker": {
             "colorbar": {
              "outlinewidth": 0,
              "ticks": ""
             }
            },
            "type": "scattercarpet"
           }
          ],
          "scattergeo": [
           {
            "marker": {
             "colorbar": {
              "outlinewidth": 0,
              "ticks": ""
             }
            },
            "type": "scattergeo"
           }
          ],
          "scattergl": [
           {
            "marker": {
             "colorbar": {
              "outlinewidth": 0,
              "ticks": ""
             }
            },
            "type": "scattergl"
           }
          ],
          "scattermapbox": [
           {
            "marker": {
             "colorbar": {
              "outlinewidth": 0,
              "ticks": ""
             }
            },
            "type": "scattermapbox"
           }
          ],
          "scatterpolar": [
           {
            "marker": {
             "colorbar": {
              "outlinewidth": 0,
              "ticks": ""
             }
            },
            "type": "scatterpolar"
           }
          ],
          "scatterpolargl": [
           {
            "marker": {
             "colorbar": {
              "outlinewidth": 0,
              "ticks": ""
             }
            },
            "type": "scatterpolargl"
           }
          ],
          "scatterternary": [
           {
            "marker": {
             "colorbar": {
              "outlinewidth": 0,
              "ticks": ""
             }
            },
            "type": "scatterternary"
           }
          ],
          "surface": [
           {
            "colorbar": {
             "outlinewidth": 0,
             "ticks": ""
            },
            "colorscale": [
             [
              0,
              "#0d0887"
             ],
             [
              0.1111111111111111,
              "#46039f"
             ],
             [
              0.2222222222222222,
              "#7201a8"
             ],
             [
              0.3333333333333333,
              "#9c179e"
             ],
             [
              0.4444444444444444,
              "#bd3786"
             ],
             [
              0.5555555555555556,
              "#d8576b"
             ],
             [
              0.6666666666666666,
              "#ed7953"
             ],
             [
              0.7777777777777778,
              "#fb9f3a"
             ],
             [
              0.8888888888888888,
              "#fdca26"
             ],
             [
              1,
              "#f0f921"
             ]
            ],
            "type": "surface"
           }
          ],
          "table": [
           {
            "cells": {
             "fill": {
              "color": "#EBF0F8"
             },
             "line": {
              "color": "white"
             }
            },
            "header": {
             "fill": {
              "color": "#C8D4E3"
             },
             "line": {
              "color": "white"
             }
            },
            "type": "table"
           }
          ]
         },
         "layout": {
          "annotationdefaults": {
           "arrowcolor": "#2a3f5f",
           "arrowhead": 0,
           "arrowwidth": 1
          },
          "autotypenumbers": "strict",
          "coloraxis": {
           "colorbar": {
            "outlinewidth": 0,
            "ticks": ""
           }
          },
          "colorscale": {
           "diverging": [
            [
             0,
             "#8e0152"
            ],
            [
             0.1,
             "#c51b7d"
            ],
            [
             0.2,
             "#de77ae"
            ],
            [
             0.3,
             "#f1b6da"
            ],
            [
             0.4,
             "#fde0ef"
            ],
            [
             0.5,
             "#f7f7f7"
            ],
            [
             0.6,
             "#e6f5d0"
            ],
            [
             0.7,
             "#b8e186"
            ],
            [
             0.8,
             "#7fbc41"
            ],
            [
             0.9,
             "#4d9221"
            ],
            [
             1,
             "#276419"
            ]
           ],
           "sequential": [
            [
             0,
             "#0d0887"
            ],
            [
             0.1111111111111111,
             "#46039f"
            ],
            [
             0.2222222222222222,
             "#7201a8"
            ],
            [
             0.3333333333333333,
             "#9c179e"
            ],
            [
             0.4444444444444444,
             "#bd3786"
            ],
            [
             0.5555555555555556,
             "#d8576b"
            ],
            [
             0.6666666666666666,
             "#ed7953"
            ],
            [
             0.7777777777777778,
             "#fb9f3a"
            ],
            [
             0.8888888888888888,
             "#fdca26"
            ],
            [
             1,
             "#f0f921"
            ]
           ],
           "sequentialminus": [
            [
             0,
             "#0d0887"
            ],
            [
             0.1111111111111111,
             "#46039f"
            ],
            [
             0.2222222222222222,
             "#7201a8"
            ],
            [
             0.3333333333333333,
             "#9c179e"
            ],
            [
             0.4444444444444444,
             "#bd3786"
            ],
            [
             0.5555555555555556,
             "#d8576b"
            ],
            [
             0.6666666666666666,
             "#ed7953"
            ],
            [
             0.7777777777777778,
             "#fb9f3a"
            ],
            [
             0.8888888888888888,
             "#fdca26"
            ],
            [
             1,
             "#f0f921"
            ]
           ]
          },
          "colorway": [
           "#636efa",
           "#EF553B",
           "#00cc96",
           "#ab63fa",
           "#FFA15A",
           "#19d3f3",
           "#FF6692",
           "#B6E880",
           "#FF97FF",
           "#FECB52"
          ],
          "font": {
           "color": "#2a3f5f"
          },
          "geo": {
           "bgcolor": "white",
           "lakecolor": "white",
           "landcolor": "#E5ECF6",
           "showlakes": true,
           "showland": true,
           "subunitcolor": "white"
          },
          "hoverlabel": {
           "align": "left"
          },
          "hovermode": "closest",
          "mapbox": {
           "style": "light"
          },
          "paper_bgcolor": "white",
          "plot_bgcolor": "#E5ECF6",
          "polar": {
           "angularaxis": {
            "gridcolor": "white",
            "linecolor": "white",
            "ticks": ""
           },
           "bgcolor": "#E5ECF6",
           "radialaxis": {
            "gridcolor": "white",
            "linecolor": "white",
            "ticks": ""
           }
          },
          "scene": {
           "xaxis": {
            "backgroundcolor": "#E5ECF6",
            "gridcolor": "white",
            "gridwidth": 2,
            "linecolor": "white",
            "showbackground": true,
            "ticks": "",
            "zerolinecolor": "white"
           },
           "yaxis": {
            "backgroundcolor": "#E5ECF6",
            "gridcolor": "white",
            "gridwidth": 2,
            "linecolor": "white",
            "showbackground": true,
            "ticks": "",
            "zerolinecolor": "white"
           },
           "zaxis": {
            "backgroundcolor": "#E5ECF6",
            "gridcolor": "white",
            "gridwidth": 2,
            "linecolor": "white",
            "showbackground": true,
            "ticks": "",
            "zerolinecolor": "white"
           }
          },
          "shapedefaults": {
           "line": {
            "color": "#2a3f5f"
           }
          },
          "ternary": {
           "aaxis": {
            "gridcolor": "white",
            "linecolor": "white",
            "ticks": ""
           },
           "baxis": {
            "gridcolor": "white",
            "linecolor": "white",
            "ticks": ""
           },
           "bgcolor": "#E5ECF6",
           "caxis": {
            "gridcolor": "white",
            "linecolor": "white",
            "ticks": ""
           }
          },
          "title": {
           "x": 0.05
          },
          "xaxis": {
           "automargin": true,
           "gridcolor": "white",
           "linecolor": "white",
           "ticks": "",
           "title": {
            "standoff": 15
           },
           "zerolinecolor": "white",
           "zerolinewidth": 2
          },
          "yaxis": {
           "automargin": true,
           "gridcolor": "white",
           "linecolor": "white",
           "ticks": "",
           "title": {
            "standoff": 15
           },
           "zerolinecolor": "white",
           "zerolinewidth": 2
          }
         }
        }
       }
      },
      "text/html": [
       "<div>                            <div id=\"f4fdc807-71b3-4d01-9a1e-a845a9a5e3a8\" class=\"plotly-graph-div\" style=\"height:525px; width:100%;\"></div>            <script type=\"text/javascript\">                require([\"plotly\"], function(Plotly) {                    window.PLOTLYENV=window.PLOTLYENV || {};                                    if (document.getElementById(\"f4fdc807-71b3-4d01-9a1e-a845a9a5e3a8\")) {                    Plotly.newPlot(                        \"f4fdc807-71b3-4d01-9a1e-a845a9a5e3a8\",                        [{\"mode\":\"markers\",\"name\":\"setosa\",\"type\":\"scatter\",\"x\":[5.1,4.9,4.7,4.6,5.0,5.4,4.6,5.0,4.4,4.9,5.4,4.8,4.8,4.3,5.8,5.7,5.4,5.1,5.7,5.1,5.4,5.1,4.6,5.1,4.8,5.0,5.0,5.2,5.2,4.7,4.8,5.4,5.2,5.5,4.9,5.0,5.5,4.9,4.4,5.1,5.0,4.5,4.4,5.0,5.1,4.8,5.1,4.6,5.3,5.0],\"y\":[1.4,1.4,1.3,1.5,1.4,1.7,1.4,1.5,1.4,1.5,1.5,1.6,1.4,1.1,1.2,1.5,1.3,1.4,1.7,1.5,1.7,1.5,1.0,1.7,1.9,1.6,1.6,1.5,1.4,1.6,1.6,1.5,1.5,1.4,1.5,1.2,1.3,1.4,1.3,1.5,1.3,1.3,1.3,1.6,1.9,1.4,1.6,1.4,1.5,1.4]},{\"mode\":\"markers\",\"name\":\"versicolor\",\"type\":\"scatter\",\"x\":[7.0,6.4,6.9,5.5,6.5,5.7,6.3,4.9,6.6,5.2,5.0,5.9,6.0,6.1,5.6,6.7,5.6,5.8,6.2,5.6,5.9,6.1,6.3,6.1,6.4,6.6,6.8,6.7,6.0,5.7,5.5,5.5,5.8,6.0,5.4,6.0,6.7,6.3,5.6,5.5,5.5,6.1,5.8,5.0,5.6,5.7,5.7,6.2,5.1,5.7],\"y\":[4.7,4.5,4.9,4.0,4.6,4.5,4.7,3.3,4.6,3.9,3.5,4.2,4.0,4.7,3.6,4.4,4.5,4.1,4.5,3.9,4.8,4.0,4.9,4.7,4.3,4.4,4.8,5.0,4.5,3.5,3.8,3.7,3.9,5.1,4.5,4.5,4.7,4.4,4.1,4.0,4.4,4.6,4.0,3.3,4.2,4.2,4.2,4.3,3.0,4.1]},{\"mode\":\"markers\",\"name\":\"virginica\",\"type\":\"scatter\",\"x\":[6.3,5.8,7.1,6.3,6.5,7.6,4.9,7.3,6.7,7.2,6.5,6.4,6.8,5.7,5.8,6.4,6.5,7.7,7.7,6.0,6.9,5.6,7.7,6.3,6.7,7.2,6.2,6.1,6.4,7.2,7.4,7.9,6.4,6.3,6.1,7.7,6.3,6.4,6.0,6.9,6.7,6.9,5.8,6.8,6.7,6.7,6.3,6.5,6.2,5.9],\"y\":[6.0,5.1,5.9,5.6,5.8,6.6,4.5,6.3,5.8,6.1,5.1,5.3,5.5,5.0,5.1,5.3,5.5,6.7,6.9,5.0,5.7,4.9,6.7,4.9,5.7,6.0,4.8,4.9,5.6,5.8,6.1,6.4,5.6,5.1,5.6,6.1,5.6,5.5,4.8,5.4,5.6,5.1,5.1,5.9,5.7,5.2,5.0,5.2,5.4,5.1]}],                        {\"template\":{\"data\":{\"bar\":[{\"error_x\":{\"color\":\"#2a3f5f\"},\"error_y\":{\"color\":\"#2a3f5f\"},\"marker\":{\"line\":{\"color\":\"#E5ECF6\",\"width\":0.5},\"pattern\":{\"fillmode\":\"overlay\",\"size\":10,\"solidity\":0.2}},\"type\":\"bar\"}],\"barpolar\":[{\"marker\":{\"line\":{\"color\":\"#E5ECF6\",\"width\":0.5},\"pattern\":{\"fillmode\":\"overlay\",\"size\":10,\"solidity\":0.2}},\"type\":\"barpolar\"}],\"carpet\":[{\"aaxis\":{\"endlinecolor\":\"#2a3f5f\",\"gridcolor\":\"white\",\"linecolor\":\"white\",\"minorgridcolor\":\"white\",\"startlinecolor\":\"#2a3f5f\"},\"baxis\":{\"endlinecolor\":\"#2a3f5f\",\"gridcolor\":\"white\",\"linecolor\":\"white\",\"minorgridcolor\":\"white\",\"startlinecolor\":\"#2a3f5f\"},\"type\":\"carpet\"}],\"choropleth\":[{\"colorbar\":{\"outlinewidth\":0,\"ticks\":\"\"},\"type\":\"choropleth\"}],\"contour\":[{\"colorbar\":{\"outlinewidth\":0,\"ticks\":\"\"},\"colorscale\":[[0.0,\"#0d0887\"],[0.1111111111111111,\"#46039f\"],[0.2222222222222222,\"#7201a8\"],[0.3333333333333333,\"#9c179e\"],[0.4444444444444444,\"#bd3786\"],[0.5555555555555556,\"#d8576b\"],[0.6666666666666666,\"#ed7953\"],[0.7777777777777778,\"#fb9f3a\"],[0.8888888888888888,\"#fdca26\"],[1.0,\"#f0f921\"]],\"type\":\"contour\"}],\"contourcarpet\":[{\"colorbar\":{\"outlinewidth\":0,\"ticks\":\"\"},\"type\":\"contourcarpet\"}],\"heatmap\":[{\"colorbar\":{\"outlinewidth\":0,\"ticks\":\"\"},\"colorscale\":[[0.0,\"#0d0887\"],[0.1111111111111111,\"#46039f\"],[0.2222222222222222,\"#7201a8\"],[0.3333333333333333,\"#9c179e\"],[0.4444444444444444,\"#bd3786\"],[0.5555555555555556,\"#d8576b\"],[0.6666666666666666,\"#ed7953\"],[0.7777777777777778,\"#fb9f3a\"],[0.8888888888888888,\"#fdca26\"],[1.0,\"#f0f921\"]],\"type\":\"heatmap\"}],\"heatmapgl\":[{\"colorbar\":{\"outlinewidth\":0,\"ticks\":\"\"},\"colorscale\":[[0.0,\"#0d0887\"],[0.1111111111111111,\"#46039f\"],[0.2222222222222222,\"#7201a8\"],[0.3333333333333333,\"#9c179e\"],[0.4444444444444444,\"#bd3786\"],[0.5555555555555556,\"#d8576b\"],[0.6666666666666666,\"#ed7953\"],[0.7777777777777778,\"#fb9f3a\"],[0.8888888888888888,\"#fdca26\"],[1.0,\"#f0f921\"]],\"type\":\"heatmapgl\"}],\"histogram\":[{\"marker\":{\"pattern\":{\"fillmode\":\"overlay\",\"size\":10,\"solidity\":0.2}},\"type\":\"histogram\"}],\"histogram2d\":[{\"colorbar\":{\"outlinewidth\":0,\"ticks\":\"\"},\"colorscale\":[[0.0,\"#0d0887\"],[0.1111111111111111,\"#46039f\"],[0.2222222222222222,\"#7201a8\"],[0.3333333333333333,\"#9c179e\"],[0.4444444444444444,\"#bd3786\"],[0.5555555555555556,\"#d8576b\"],[0.6666666666666666,\"#ed7953\"],[0.7777777777777778,\"#fb9f3a\"],[0.8888888888888888,\"#fdca26\"],[1.0,\"#f0f921\"]],\"type\":\"histogram2d\"}],\"histogram2dcontour\":[{\"colorbar\":{\"outlinewidth\":0,\"ticks\":\"\"},\"colorscale\":[[0.0,\"#0d0887\"],[0.1111111111111111,\"#46039f\"],[0.2222222222222222,\"#7201a8\"],[0.3333333333333333,\"#9c179e\"],[0.4444444444444444,\"#bd3786\"],[0.5555555555555556,\"#d8576b\"],[0.6666666666666666,\"#ed7953\"],[0.7777777777777778,\"#fb9f3a\"],[0.8888888888888888,\"#fdca26\"],[1.0,\"#f0f921\"]],\"type\":\"histogram2dcontour\"}],\"mesh3d\":[{\"colorbar\":{\"outlinewidth\":0,\"ticks\":\"\"},\"type\":\"mesh3d\"}],\"parcoords\":[{\"line\":{\"colorbar\":{\"outlinewidth\":0,\"ticks\":\"\"}},\"type\":\"parcoords\"}],\"pie\":[{\"automargin\":true,\"type\":\"pie\"}],\"scatter\":[{\"marker\":{\"colorbar\":{\"outlinewidth\":0,\"ticks\":\"\"}},\"type\":\"scatter\"}],\"scatter3d\":[{\"line\":{\"colorbar\":{\"outlinewidth\":0,\"ticks\":\"\"}},\"marker\":{\"colorbar\":{\"outlinewidth\":0,\"ticks\":\"\"}},\"type\":\"scatter3d\"}],\"scattercarpet\":[{\"marker\":{\"colorbar\":{\"outlinewidth\":0,\"ticks\":\"\"}},\"type\":\"scattercarpet\"}],\"scattergeo\":[{\"marker\":{\"colorbar\":{\"outlinewidth\":0,\"ticks\":\"\"}},\"type\":\"scattergeo\"}],\"scattergl\":[{\"marker\":{\"colorbar\":{\"outlinewidth\":0,\"ticks\":\"\"}},\"type\":\"scattergl\"}],\"scattermapbox\":[{\"marker\":{\"colorbar\":{\"outlinewidth\":0,\"ticks\":\"\"}},\"type\":\"scattermapbox\"}],\"scatterpolar\":[{\"marker\":{\"colorbar\":{\"outlinewidth\":0,\"ticks\":\"\"}},\"type\":\"scatterpolar\"}],\"scatterpolargl\":[{\"marker\":{\"colorbar\":{\"outlinewidth\":0,\"ticks\":\"\"}},\"type\":\"scatterpolargl\"}],\"scatterternary\":[{\"marker\":{\"colorbar\":{\"outlinewidth\":0,\"ticks\":\"\"}},\"type\":\"scatterternary\"}],\"surface\":[{\"colorbar\":{\"outlinewidth\":0,\"ticks\":\"\"},\"colorscale\":[[0.0,\"#0d0887\"],[0.1111111111111111,\"#46039f\"],[0.2222222222222222,\"#7201a8\"],[0.3333333333333333,\"#9c179e\"],[0.4444444444444444,\"#bd3786\"],[0.5555555555555556,\"#d8576b\"],[0.6666666666666666,\"#ed7953\"],[0.7777777777777778,\"#fb9f3a\"],[0.8888888888888888,\"#fdca26\"],[1.0,\"#f0f921\"]],\"type\":\"surface\"}],\"table\":[{\"cells\":{\"fill\":{\"color\":\"#EBF0F8\"},\"line\":{\"color\":\"white\"}},\"header\":{\"fill\":{\"color\":\"#C8D4E3\"},\"line\":{\"color\":\"white\"}},\"type\":\"table\"}]},\"layout\":{\"annotationdefaults\":{\"arrowcolor\":\"#2a3f5f\",\"arrowhead\":0,\"arrowwidth\":1},\"autotypenumbers\":\"strict\",\"coloraxis\":{\"colorbar\":{\"outlinewidth\":0,\"ticks\":\"\"}},\"colorscale\":{\"diverging\":[[0,\"#8e0152\"],[0.1,\"#c51b7d\"],[0.2,\"#de77ae\"],[0.3,\"#f1b6da\"],[0.4,\"#fde0ef\"],[0.5,\"#f7f7f7\"],[0.6,\"#e6f5d0\"],[0.7,\"#b8e186\"],[0.8,\"#7fbc41\"],[0.9,\"#4d9221\"],[1,\"#276419\"]],\"sequential\":[[0.0,\"#0d0887\"],[0.1111111111111111,\"#46039f\"],[0.2222222222222222,\"#7201a8\"],[0.3333333333333333,\"#9c179e\"],[0.4444444444444444,\"#bd3786\"],[0.5555555555555556,\"#d8576b\"],[0.6666666666666666,\"#ed7953\"],[0.7777777777777778,\"#fb9f3a\"],[0.8888888888888888,\"#fdca26\"],[1.0,\"#f0f921\"]],\"sequentialminus\":[[0.0,\"#0d0887\"],[0.1111111111111111,\"#46039f\"],[0.2222222222222222,\"#7201a8\"],[0.3333333333333333,\"#9c179e\"],[0.4444444444444444,\"#bd3786\"],[0.5555555555555556,\"#d8576b\"],[0.6666666666666666,\"#ed7953\"],[0.7777777777777778,\"#fb9f3a\"],[0.8888888888888888,\"#fdca26\"],[1.0,\"#f0f921\"]]},\"colorway\":[\"#636efa\",\"#EF553B\",\"#00cc96\",\"#ab63fa\",\"#FFA15A\",\"#19d3f3\",\"#FF6692\",\"#B6E880\",\"#FF97FF\",\"#FECB52\"],\"font\":{\"color\":\"#2a3f5f\"},\"geo\":{\"bgcolor\":\"white\",\"lakecolor\":\"white\",\"landcolor\":\"#E5ECF6\",\"showlakes\":true,\"showland\":true,\"subunitcolor\":\"white\"},\"hoverlabel\":{\"align\":\"left\"},\"hovermode\":\"closest\",\"mapbox\":{\"style\":\"light\"},\"paper_bgcolor\":\"white\",\"plot_bgcolor\":\"#E5ECF6\",\"polar\":{\"angularaxis\":{\"gridcolor\":\"white\",\"linecolor\":\"white\",\"ticks\":\"\"},\"bgcolor\":\"#E5ECF6\",\"radialaxis\":{\"gridcolor\":\"white\",\"linecolor\":\"white\",\"ticks\":\"\"}},\"scene\":{\"xaxis\":{\"backgroundcolor\":\"#E5ECF6\",\"gridcolor\":\"white\",\"gridwidth\":2,\"linecolor\":\"white\",\"showbackground\":true,\"ticks\":\"\",\"zerolinecolor\":\"white\"},\"yaxis\":{\"backgroundcolor\":\"#E5ECF6\",\"gridcolor\":\"white\",\"gridwidth\":2,\"linecolor\":\"white\",\"showbackground\":true,\"ticks\":\"\",\"zerolinecolor\":\"white\"},\"zaxis\":{\"backgroundcolor\":\"#E5ECF6\",\"gridcolor\":\"white\",\"gridwidth\":2,\"linecolor\":\"white\",\"showbackground\":true,\"ticks\":\"\",\"zerolinecolor\":\"white\"}},\"shapedefaults\":{\"line\":{\"color\":\"#2a3f5f\"}},\"ternary\":{\"aaxis\":{\"gridcolor\":\"white\",\"linecolor\":\"white\",\"ticks\":\"\"},\"baxis\":{\"gridcolor\":\"white\",\"linecolor\":\"white\",\"ticks\":\"\"},\"bgcolor\":\"#E5ECF6\",\"caxis\":{\"gridcolor\":\"white\",\"linecolor\":\"white\",\"ticks\":\"\"}},\"title\":{\"x\":0.05},\"xaxis\":{\"automargin\":true,\"gridcolor\":\"white\",\"linecolor\":\"white\",\"ticks\":\"\",\"title\":{\"standoff\":15},\"zerolinecolor\":\"white\",\"zerolinewidth\":2},\"yaxis\":{\"automargin\":true,\"gridcolor\":\"white\",\"linecolor\":\"white\",\"ticks\":\"\",\"title\":{\"standoff\":15},\"zerolinecolor\":\"white\",\"zerolinewidth\":2}}}},                        {\"responsive\": true}                    ).then(function(){\n",
       "                            \n",
       "var gd = document.getElementById('f4fdc807-71b3-4d01-9a1e-a845a9a5e3a8');\n",
       "var x = new MutationObserver(function (mutations, observer) {{\n",
       "        var display = window.getComputedStyle(gd).display;\n",
       "        if (!display || display === 'none') {{\n",
       "            console.log([gd, 'removed!']);\n",
       "            Plotly.purge(gd);\n",
       "            observer.disconnect();\n",
       "        }}\n",
       "}});\n",
       "\n",
       "// Listen for the removal of the full notebook cells\n",
       "var notebookContainer = gd.closest('#notebook-container');\n",
       "if (notebookContainer) {{\n",
       "    x.observe(notebookContainer, {childList: true});\n",
       "}}\n",
       "\n",
       "// Listen for the clearing of the current output cell\n",
       "var outputEl = gd.closest('.output');\n",
       "if (outputEl) {{\n",
       "    x.observe(outputEl, {childList: true});\n",
       "}}\n",
       "\n",
       "                        })                };                });            </script>        </div>"
      ]
     },
     "metadata": {},
     "output_type": "display_data"
    }
   ],
   "source": [
    "#套入iris資料\n",
    "trace0=go.Scatter(x=iris_data[iris_data['target']==0]['sepal length (cm)'], y=iris_data[iris_data['target']==0]['petal length (cm)'], mode='markers', name='setosa')\n",
    "trace1=go.Scatter(x=iris_data[iris_data['target']==1]['sepal length (cm)'], y=iris_data[iris_data['target']==1]['petal length (cm)'], mode='markers', name='versicolor')\n",
    "trace2=go.Scatter(x=iris_data[iris_data['target']==2]['sepal length (cm)'], y=iris_data[iris_data['target']==2]['petal length (cm)'], mode='markers', name='virginica')\n",
    "data=[trace0, trace1, trace2]\n",
    "pyoff.iplot(data, filename='basic-scatter')"
   ]
  },
  {
   "cell_type": "code",
   "execution_count": 30,
   "metadata": {},
   "outputs": [
    {
     "data": {
      "application/vnd.plotly.v1+json": {
       "config": {
        "linkText": "Export to plot.ly",
        "plotlyServerURL": "https://plot.ly",
        "showLink": false
       },
       "data": [
        {
         "marker": {
          "color": [
           -1.1042513548185036,
           -0.711559612563328,
           -1.2114415417063227,
           0.8092042078666943,
           -2.4014285054142945,
           -1.8410455852773138,
           1.5604879182415972,
           0.05996234596655243,
           -0.6160464636924715,
           0.7112454831386249,
           -0.9770204925996181,
           1.4279284048837264,
           1.1544240502196426,
           0.9203794584198217,
           0.2568628326495673,
           0.027602949653717988,
           -0.01677456192130268,
           -0.3377583470396168,
           1.3249705770275708,
           1.8112806971404678,
           0.613276572968934,
           0.7953522778010039,
           0.5176255310133443,
           -0.6201835964086784,
           0.6049132285461646,
           0.2675740613189545,
           -0.2667626358754262,
           -0.02267517007268268,
           -0.4768686940794734,
           0.26378714704919204,
           0.8672836486887664,
           -1.3583314122437369,
           0.5956667793944551,
           0.26386308319713647,
           -0.5017027650433102,
           -1.3879938505716896,
           -0.330905722270921,
           -0.057022419689003095,
           1.5274661016159585,
           -0.34349904127371345,
           -1.2702427874575712,
           -0.19932561819284608,
           0.6708285988605929,
           -0.9264897243722692,
           -1.1716717717888265,
           0.6605746107969669,
           -0.08358026027502978,
           -1.157784327639925,
           1.0651269161062487,
           -0.7187519250837116,
           1.7039430681299081,
           0.8525363677813597,
           0.9677797622751064,
           -0.5635443148229542,
           1.0159727601949435,
           1.085242343838977,
           -0.10119560133526329,
           -0.4538319971085448,
           -1.2576235772337525,
           0.6146694003155158,
           -1.014687182123547,
           0.55334614410138,
           0.21599536959128976,
           -0.03114650520940923,
           -1.022273140030246,
           -1.7573625196423888,
           -0.3688173584014448,
           0.1559969807681836,
           0.3862290436094739,
           -0.5554264058030471,
           -0.7117429580324072,
           -0.06647669272858357,
           1.4659614809548123,
           -1.8824280736963006,
           0.46395462017365685,
           -0.02723534605468641,
           -0.3841787748812482,
           -1.2554739051288113,
           2.3003025898837786,
           0.1861566146386614,
           -0.184703990248402,
           0.24944374723131918,
           -0.2377415443525706,
           0.5229510415963646,
           -0.21691793927877506,
           0.12366219027574216,
           0.15458259130561045,
           0.05508339374238222,
           0.20613260590052707,
           1.2372734894697586,
           -0.7486316007927938,
           2.164766410189642,
           0.37416491960889325,
           -0.7199736708896141,
           -1.8515135668531746,
           0.27149231085845604,
           -1.7367377362017997,
           -0.08112671893918527,
           0.42888932565995525,
           -1.7589563251347309,
           1.257133533596847,
           -1.3348177771051097,
           -0.6748429313213343,
           -1.5419692838340875,
           0.8652232590651368,
           1.0918842688422477,
           -0.5908885105418094,
           0.3084104356038583,
           0.9825031944839276,
           -0.6137108937623927,
           -0.3545134873113933,
           0.8207586401265942,
           0.3546831836869364,
           2.1800802315967687,
           -1.1830325403281914,
           0.2697222950325493,
           -2.100721147838099,
           1.471345759254659,
           0.7662615884615083,
           -1.0793051429134748,
           -0.2010191346330819,
           0.7187784649224807,
           -0.38534143604544413,
           -0.3694175820357477,
           -0.9071080838478249,
           -0.14630351772308822,
           0.6942892071037147,
           1.0897438077756796,
           -0.051385545801644984,
           -0.24605677385495578,
           0.6210678000949026,
           -1.9063431128372457,
           0.11709303868109724,
           -0.7429851341049538,
           -1.313075711004968,
           -0.7676278633203784,
           1.0834973029271908,
           1.9444904998724242,
           1.2037799151290955,
           2.1790370762736244,
           -1.7711114847719014,
           1.1912126611250093,
           1.337351822523319,
           1.1291285555541382,
           0.6826270922643262,
           -0.7863945319244883,
           0.013518588899733992,
           1.099818601350438,
           0.7187314572618028,
           -0.9380737605630968,
           0.24066204894014268,
           -0.2104545482906461,
           -0.4367907514083555,
           1.1598885611247414,
           -0.9683700828730788,
           1.3071861818975192,
           0.5920492582828254,
           -0.6261657799903537,
           -1.7259994588363987,
           -0.8675617545808576,
           0.8803061726539447,
           0.8915146283970203,
           -1.1084093009908669,
           1.8223859083412364,
           -1.1464980035824308,
           -0.5905961794989173,
           0.2250874511623426,
           0.8926148366715887,
           1.576413443359162,
           -0.1573691453433338,
           -0.1960421779528558,
           -0.5854454694842586,
           -0.47690579112522036,
           0.8713500387971097,
           0.028307439677373647,
           0.7069833352914539,
           1.67141561004668,
           -0.31163407621697264,
           0.07007260097201491,
           1.0794844971249666,
           0.12321940232605064,
           1.5031540212009697,
           0.43776993636998196,
           0.9784375118585742,
           -1.8501134675592577,
           -2.204487547520755,
           -1.6929889505686382,
           -0.0018753461953492643,
           -0.16364997971806386,
           0.08848928351766279,
           -1.4280300319307428,
           0.3040453502321655,
           0.4901721265702274,
           1.632453996153521,
           0.9938037289086032,
           -1.7082649210854834,
           -0.5843286954843958,
           -2.226802405759286,
           2.2248742156907673,
           0.4206419579092801,
           2.33870542632369,
           -0.9615720280895513,
           1.060344767637882,
           -0.6172192417903755,
           -2.05221881154337,
           0.04814490679089823,
           -1.4848354794753649,
           0.0641895087672622,
           -0.4553246067601757,
           -0.23337750588069456,
           -0.26463420862799014,
           0.6680520447796588,
           -2.451350479694717,
           0.520927275453847,
           1.387605475227898,
           0.02248879173633083,
           1.5878510067680862,
           -0.43822999743773405,
           -1.100522143867041,
           -1.8537758954662886,
           -0.8767088419373377,
           -0.17194846393662616,
           0.33805188821346555,
           -0.005940660616299085,
           0.66149310956671,
           0.6759134015576009,
           -0.6496728880878023,
           -2.4106032343361896,
           0.10672405836580759,
           0.7045178614812512,
           -1.4239195683798154,
           0.08251882945624829,
           -1.2001625107179528,
           -0.2531622087761522,
           -0.575283727222867,
           1.4885801819100604,
           -0.7041308238503374,
           -0.7514395966927367,
           -1.0913160129112753,
           -0.23692646540970022,
           -1.0809824564106671,
           -0.23191840746668105,
           -2.1945288355143013,
           -0.4045011735165434,
           -0.008791282396219426,
           -0.5982455818753567,
           0.4551372596855133,
           -1.0050765835548199,
           -0.5661319539065883,
           -0.9189158060425617,
           -1.6671547332845955,
           1.057301834087577,
           -0.7128822569017506,
           0.6056140036103947,
           0.3141480127359447,
           -1.088907873649394,
           0.02175995227171857,
           0.95227705447893,
           1.139778111467855,
           -0.022304046789354964,
           0.6262022287063427,
           1.4314773316839673,
           -0.07169236741934108,
           -0.5940107013770377,
           2.5703625695503463,
           1.0612569272259753,
           0.7262379757103833,
           1.1252802101382933,
           0.7061122806745003,
           -0.15024208454954646,
           0.11460326589102951,
           -1.1392593520402523,
           -0.29657634091284363,
           -0.7158872467774171,
           1.135712173153251,
           -0.6049271597923712,
           -1.149165203736831,
           0.43393813668310466,
           -1.1455050450442932,
           2.3778653507153575,
           -1.6284934848038315,
           -1.829322984832132,
           -0.5020407249106117,
           0.32546905162482315,
           1.0426477197392792,
           -0.29138276064976415,
           0.628903192218719,
           0.035368757418178715,
           2.3258395645286023,
           1.3213336230330193,
           -0.341570425844503,
           0.6818015265542635,
           -1.6646606036112022,
           0.5709013161609903,
           0.6988182717311318,
           -0.41556754293431675,
           0.29939688809003884,
           0.9545189333518829,
           -0.3513092992350905,
           0.7809435715740828,
           -0.22298737365878848,
           0.6828332221684437,
           -0.6825281691210342,
           0.36830004537535627,
           -0.44384702375885565,
           -2.2522087790246537,
           0.14057213127372972,
           -0.3954413608932325,
           0.534745431770394,
           -1.8153786465534176,
           -0.47487483661585583,
           -1.0757996997653243,
           1.567143665652093,
           -0.8150451920001096,
           -0.642779542072957,
           -1.878495550938325,
           1.4791637374635271,
           -0.38862650809392896,
           0.9181412379134274,
           -0.48370666201994494,
           -0.8739611765946539,
           0.5273877369566243,
           0.1983629263470115,
           -0.6789755317359153,
           0.007273455528077815,
           -1.3317784768419754,
           -0.45308330664817753,
           0.5430432484445431,
           -1.0555454848555588,
           0.4648983574109401,
           -1.9892165614845536,
           0.7754440264954318,
           -0.489014202391813,
           1.5278464827396268,
           -1.0171360622124117,
           -1.0015731243600428,
           0.2523158703335991,
           1.0928513162761015,
           1.4964918416661335,
           -0.5302002863519996,
           1.0559214945796527,
           0.02421005813264385,
           0.8844842315614169,
           1.008776383046125,
           0.013453459710969085,
           -0.28383632361589894,
           -0.5591298369409667,
           1.075648900640865,
           -0.5869997302784471,
           1.48932244992878,
           -0.5937365416642316,
           0.752137031588637,
           0.8060218641423341,
           0.051137989666976504,
           0.8698379312144597,
           -0.27692172341837834,
           -0.30304011018844174,
           -0.4546828588520332,
           1.1348423059846477,
           -0.10476116432113661,
           -0.3424285762237335,
           -0.37339420558208297,
           -0.5045733441460516,
           0.2649674044569407,
           -1.4867610559113529,
           0.5248263144877168,
           -0.3642477458461506,
           0.07644226944694477,
           -0.9432980289594537,
           0.11246128533053001,
           0.5154013302889058,
           -0.08679842020594554,
           -0.3420541500898528,
           -0.2570993320730103,
           0.13289782613193848,
           0.8788303938623319,
           -1.4443936437313307,
           0.15289904951728203,
           0.3350437528813953,
           -0.174750475381897,
           -0.2345619349192137,
           -0.9163769668203856,
           0.2854046057944894,
           -0.5473772592800354,
           0.43764902991544247,
           0.7516466793484402,
           -1.4964267730144176,
           1.3976129675610918,
           0.9412447505390179,
           -0.618943058303168,
           0.8745530480398687,
           0.20619855309101334,
           -0.12910919770176696,
           0.6007117783776449,
           -0.1997692567032932,
           -0.5235000422357688,
           0.644346205333332,
           2.505499742225245,
           -0.45651188177384017,
           0.2558167503989752
          ],
          "colorscale": [
           [
            0,
            "#440154"
           ],
           [
            0.1111111111111111,
            "#482878"
           ],
           [
            0.2222222222222222,
            "#3e4989"
           ],
           [
            0.3333333333333333,
            "#31688e"
           ],
           [
            0.4444444444444444,
            "#26828e"
           ],
           [
            0.5555555555555556,
            "#1f9e89"
           ],
           [
            0.6666666666666666,
            "#35b779"
           ],
           [
            0.7777777777777778,
            "#6ece58"
           ],
           [
            0.8888888888888888,
            "#b5de2b"
           ],
           [
            1,
            "#fde725"
           ]
          ],
          "opacity": 0.8,
          "size": 12
         },
         "mode": "markers",
         "type": "scatter3d",
         "x": [
          1.4671087851387057,
          -0.2647978544994117,
          -0.38794360083473167,
          -0.7012367546388134,
          0.8137874295127907,
          -0.8771900995276473,
          0.2971991277864933,
          0.44758653732311804,
          0.029744984085353792,
          1.9825465946050358,
          -0.3195276827541725,
          0.803240531011482,
          -0.11770813675417356,
          0.9951650041972112,
          -1.1343669744881733,
          -0.569786193332018,
          1.4943376554059145,
          -0.36622641641922266,
          0.776625479682147,
          0.05503032663394866,
          -0.9543355816127763,
          0.27437431577610255,
          1.8377820776639024,
          -0.9700886760169892,
          0.0018579055766718444,
          1.1199710962403373,
          -0.8758186381650908,
          -0.7612310396323378,
          1.2479718792964185,
          0.16882457170439336,
          0.09830075486061562,
          -1.4385866670523222,
          -0.4291578338326953,
          0.1829218267667833,
          -0.7024150140591136,
          -0.01754931559792282,
          -2.0515243280919138,
          1.3985948026486652,
          1.8505792430934782,
          0.7366991036769404,
          0.6988232976863994,
          -0.809615194758698,
          1.4239999817298987,
          0.7246795995109439,
          -0.5148672289411842,
          -0.9687353798898071,
          -1.2194998164180737,
          0.9984812957165918,
          0.8600619451187206,
          -1.3286253520017455,
          -0.7187028675749697,
          0.6492436443183578,
          -0.2762875510531209,
          0.3550082629895201,
          0.4712313261512408,
          0.6912133489360077,
          0.13577331880960292,
          -0.020943679224107364,
          1.3461797527054251,
          -0.29248973782537036,
          0.465720136579361,
          -1.3249282408545198,
          1.7076250780146447,
          1.1915135918863624,
          -0.3572746505915522,
          0.24688365191651124,
          1.2853849685068233,
          -1.8287644645490213,
          0.4878819360591029,
          -0.08805204401945063,
          0.5346189713798459,
          0.2790035650208506,
          -0.41850611861628456,
          -0.6966743054454142,
          0.027339523489686744,
          1.3595603860059937,
          0.2762383754408278,
          -0.05562052992576831,
          -1.0056759948568839,
          -1.2328322683629194,
          -1.6366916401313578,
          0.157246783416869,
          2.7013610152846628,
          -0.4450957206031216,
          -0.17759997947456851,
          -0.5758487262158377,
          -0.5788705188644124,
          -1.2325342905393042,
          0.7071489106124521,
          1.8338452603639765,
          -0.04332420682783499,
          0.6557083798287224,
          0.7430552645635995,
          1.1812422529841242,
          -0.47186282048098455,
          0.7112519256706509,
          -0.16499344975722993,
          0.37305728504096447,
          -1.6014592211253451,
          0.237471326905999,
          -0.795134461319553,
          -0.226515969084309,
          -1.1580104193223506,
          0.4789980296178854,
          0.4291187926833575,
          -0.3060503424291289,
          1.3373410180358507,
          -1.074859053591727,
          -0.2327974703141972,
          -0.41644499473499447,
          0.4235181941633306,
          0.05529172642494606,
          1.6916761937614417,
          -1.1268360635239687,
          -0.21057484298992804,
          0.37199001709560914,
          1.387833988287571,
          -0.17155742350571856,
          -0.41805953161788334,
          1.3560388705923225,
          -1.023932589090271,
          -0.05198498374622005,
          -2.5522700845685997,
          -0.7599906619735938,
          -0.09293638656754932,
          1.5914796421948714,
          0.862443953807934,
          0.007373096482440929,
          1.8724860459666766,
          -0.53121511470742,
          0.4302275694593614,
          -0.9783977754022187,
          -1.7670238007412868,
          0.4993949433966954,
          1.2754273157055753,
          1.2513551579382958,
          -0.15965551649689433,
          0.6112767644960694,
          0.2872422951419383,
          1.9812959778838577,
          -1.009113346900722,
          -0.5644247905037353,
          -1.6806974558875274,
          1.1911058434674473,
          0.8314765517791067,
          -0.45340192819885056,
          -0.15236591788777354,
          -1.4556768214809075,
          -0.38263405625864244,
          0.20301052864671162,
          -0.2976893453419764,
          0.5497996733915201,
          -0.6964444657026919,
          -1.4521274708940322,
          -0.06873240611731614,
          0.5839432345916216,
          0.03218935885685145,
          0.8616390597292297,
          -1.3713736931085474,
          -1.2582852362945052,
          -0.24220176422129322,
          0.9085028787734456,
          0.05016045790141631,
          0.54118200631835,
          -0.34870423618196533,
          1.1316707228286838,
          0.5276961333452219,
          0.24742267132041734,
          -0.26691329161030114,
          0.046842277472176314,
          -0.273398842889395,
          -0.3337171780764505,
          0.7516066113885888,
          -1.3939339551578218,
          0.06538654533038261,
          -1.0965159939589042,
          -1.8137914127459691,
          1.167230116017945,
          -0.2733715756007981,
          -0.8489931316410274,
          -1.2972167954834615,
          0.6159846767332895,
          1.2498076269037268,
          -0.04096604407418527,
          -0.3575726171376303,
          0.9629610807558722,
          0.7667875231424901,
          0.20714446186542382,
          -0.45815429082790804,
          -1.620416473700282,
          -0.6426347367584078,
          0.9084377421608726,
          0.030767580671515717,
          0.5083730648810016,
          1.134335922786459,
          0.06064685781429046,
          -0.3629792843601528,
          -1.5749238122156464,
          1.0125422285523293,
          0.062196496002317705,
          -0.37201899126408655,
          0.10826847368691599,
          1.2676806808526886,
          1.0071710049798324,
          0.14127044627831326,
          1.7493404803600314,
          0.22188080213554354,
          0.201836208024607,
          0.6442201092826207,
          -1.7265185324674228,
          -0.8117505706955398,
          0.2708997762097853,
          0.9110170555650928,
          -1.1063779729746466,
          -0.5108728721739417,
          -1.3480989312508607,
          -0.1336792293025969,
          0.6113054966432326,
          -1.3286190816485646,
          -1.055397887761939,
          0.686346126422655,
          0.6562339417855573,
          -1.1700709769676487,
          1.2338617496854027,
          -0.7893690429281724,
          -1.1394829982173118,
          1.5433652316891953,
          0.635596406958784,
          1.128114436887729,
          0.7587658812182551,
          0.6433818828930423,
          0.2193675934749093,
          0.7366305638923579,
          0.23358750536374653,
          -0.23685294855885583,
          0.6423908159843981,
          -1.230244765171907,
          1.198663471888556,
          -1.4947682722271871,
          -0.8079352653754748,
          -0.24268743059466155,
          -0.8603540442714553,
          -0.6038296895329748,
          0.8388455586049609,
          -1.38350900280828,
          -0.37700909734112276,
          0.2119909799617479,
          -0.853787039244887,
          -0.6074211762753878,
          1.645997655439191,
          1.7426101174552902,
          0.15146579895417467,
          0.6818330438862552,
          -0.8679445742592624,
          -0.3772717994036919,
          -0.848491148688272,
          1.0755840047965344,
          1.0737201952476332,
          -0.46967340674362035,
          0.9192879152311405,
          -0.16854296377261205,
          0.11839696977558466,
          -1.5019223102704666,
          1.0353389014556909,
          1.2545051607087807,
          -0.2325780942323003,
          -0.7574983733106837,
          -0.40476320714835423,
          -0.17995835352307032,
          -1.0366912404567534,
          -0.6576897545979082,
          -0.36420949766984073,
          2.1400861680395957,
          0.10392727950078488,
          -0.3191627302555483,
          -0.27482912830561,
          -0.8751552722868627,
          0.9467389643265568,
          0.9121364810806991,
          -0.08457131301534185,
          1.2932753949273994,
          0.759797148392239,
          -1.361984952924987,
          -1.5293388557568104,
          1.1227310656490974,
          -0.3714221500410534,
          0.16489576832074748,
          -0.44335154681077166,
          -1.3458445883192758,
          -0.35631730218827734,
          -0.801285649685218,
          -0.12644075017737919,
          0.695216325832229,
          -0.373785529250393,
          -2.011346736812751,
          0.6066105304603324,
          -0.5497945280808666,
          -0.3507413202782878,
          -0.6473649646551155,
          0.5974618099346425,
          0.7393035385689329,
          -1.1568475974833832,
          0.05721299482475309,
          0.43820305166200674,
          1.095070071904575,
          -1.4094231260067895,
          1.0535101558100937,
          0.42821124575971486,
          -1.463808798555253,
          1.992253530657074,
          0.37845300794199993,
          1.649083301367453,
          0.0964985735535227,
          -1.2837822908697196,
          0.48997782995967115,
          4.544213531738237e-05,
          -2.1317786447701366,
          -0.06860945581048834,
          -1.888109553388989,
          -0.32648216720714784,
          -0.1337772325483959,
          -1.60846805638181,
          0.7482001860143235,
          -0.8953918937563073,
          -0.301356091047244,
          2.0702110785766124,
          -0.6672489011008299,
          -0.3846630126444758,
          -0.37715138100889295,
          0.053047823983202055,
          0.23154105423802934,
          0.582367110388863,
          0.030716906226165745,
          0.4837917996172297,
          -0.33941733943576213,
          0.7607809202011715,
          -0.7820022666992023,
          0.6266004966105357,
          -0.19746697160834037,
          0.6546714655656906,
          -0.45013794737594154,
          -0.5004867275811553,
          -1.3014946263262563,
          0.7051457520495831,
          -0.5443656295775035,
          -1.6875284262192258,
          -0.9424095933622851,
          1.4180567710355636,
          -0.36945092017669157,
          0.2913396720243371,
          1.6614824175805707,
          0.391988580303369,
          -0.09515474848458076,
          -0.5185884168496203,
          0.26174535149561967,
          0.279642144477915,
          0.11205283838898288,
          0.40360836772804326,
          0.6104506980578129,
          -1.700823131819446,
          -2.2754355352381315,
          0.7878084590286308,
          2.7750493093145585,
          -1.3947056114089424,
          -0.39293546624202297,
          0.16477477596999215,
          -0.8641320124340548,
          0.18360055728177166,
          -0.16254714444698753,
          -0.10876194714801511,
          0.6800579127401124,
          -0.4160762219246717,
          -0.16866414411630698,
          1.106493931122683,
          -0.5002482155016571,
          -1.1960171051310198,
          -0.3262498245331844,
          1.7349361732468955,
          0.03783466705514876,
          1.5864848369475917,
          0.38877593479148465,
          1.4112922692681331,
          0.025713447684422713,
          -0.1344715257634525,
          -0.784698550060416,
          1.0938459929900308,
          -1.3762175086055062,
          1.9500952803508358,
          0.007968891102958063,
          -0.7415014995880078,
          -0.267957264793978,
          0.329298992822772,
          -0.05199965944378834,
          0.3517741719140281,
          1.522576735920906,
          -0.19568637229843386,
          0.11982660147966044,
          0.7781546662381783,
          0.9778877453661006,
          -2.250368489176283
         ],
         "y": [
          0.9616703171705878,
          -0.5818539701699045,
          -1.1332478651105784,
          0.7847646423691826,
          0.4676660868051959,
          0.5763145306623427,
          0.18194453313788497,
          1.4928728825623532,
          0.40592543769192724,
          1.202469656534092,
          -0.41849186670417604,
          -1.814067778398471,
          -0.5838541255185743,
          -1.1022690795157677,
          -0.09578516961745578,
          0.9302833131663519,
          -0.8781972890220878,
          -0.44105677974170987,
          1.8536834421967812,
          1.287695437238138,
          0.7072535593115404,
          -0.09087612476106814,
          1.499238479019818,
          -0.08516471632108662,
          0.9609284631685308,
          -0.4191588942320947,
          -0.9006353499792363,
          2.2801350497226505,
          -0.14275215796210713,
          -0.18198739677732412,
          -0.8303660713404114,
          -0.5082299325108094,
          0.6340387886930664,
          0.3926642242626088,
          -0.2695661274773998,
          -1.6658289497557628,
          -1.1611389965602616,
          0.6276276903140016,
          1.417661439245077,
          -0.4838034993089419,
          -1.289388083463128,
          0.2937379884262438,
          -0.9333477392161705,
          1.7442999203851333,
          0.26005461248395545,
          -0.12672896107081824,
          0.9984430886985207,
          0.9066392237367615,
          -1.3958292877293246,
          0.609232405153541,
          -1.1430465110914445,
          -0.213017137141056,
          1.086286575541548,
          0.40060184663020715,
          -0.5916220648154642,
          0.5889768709752585,
          -0.5443257707603197,
          0.2550000111264773,
          1.4958283534689514,
          -1.6921771604595455,
          -0.3912387947614228,
          0.14534284369720282,
          -0.6575065706533288,
          0.4228573235836071,
          -0.35232099771938674,
          -0.6469096039799158,
          -1.0754139696081226,
          1.005331954174107,
          -0.3379041716037265,
          -0.9621736486449531,
          -1.5008916529825636,
          0.6962775079816627,
          -0.23971176153528817,
          0.045202798962545365,
          -0.2455489527856145,
          -0.41643297890759967,
          -0.5888199737091433,
          -0.25162312187958175,
          -0.7016145369516383,
          -0.7448148343733704,
          -0.4283185457283246,
          0.08374938351681072,
          0.580108744640179,
          0.17483749825297995,
          0.34627844657006757,
          0.8719174733189424,
          1.7282789508443726,
          -3.140715204843478,
          1.1840943978777148,
          0.09736497159738328,
          1.2990858532231009,
          0.37024637274467953,
          0.7476574052263412,
          1.6230185030339286,
          -0.5600198150362893,
          -1.123315935183101,
          1.1555729793801275,
          -0.018769375268228805,
          2.6078665143510116,
          -0.22090993672248288,
          0.6767262485720419,
          0.44548093187255433,
          -1.1504138134813082,
          1.9782173359015656,
          0.09528587366486106,
          0.41934655429509804,
          -0.5196603405576297,
          0.6179542171379991,
          -0.8257766646655977,
          0.0920106817831329,
          0.2309217371659279,
          -0.5118126617475415,
          0.9094720800989803,
          -0.5941971714953718,
          -1.5641714066609296,
          -0.7250149354929971,
          0.9317023524536739,
          0.9622522459799481,
          0.07583284403696164,
          0.6515248068300161,
          0.6622454667939914,
          -0.09143898506275133,
          -0.011687019068759838,
          0.4012535403312717,
          -0.01945471895337583,
          0.9601065298707192,
          -0.36802654198164836,
          -1.5888836335804088,
          -0.21925794765336248,
          -0.2493695681702932,
          -0.22565149521839487,
          -0.012503010536070436,
          -1.1518160690980286,
          0.13426018312629265,
          -0.4139964904401201,
          -0.7992350533071476,
          1.0381219357478655,
          0.09281871868923881,
          0.5434725391360656,
          -1.773560518460757,
          1.1754895639461245,
          -0.21937270743294715,
          -0.23727977943256437,
          1.1175629509598572,
          -0.8812955891517708,
          -1.1108581736435028,
          -0.7233394203532045,
          0.6518423511392375,
          0.5638887244863618,
          -0.9324559607750826,
          -0.07257648847130431,
          -0.21341471501818376,
          0.038215312870983516,
          -1.6262435872673655,
          -0.06618833842525561,
          -0.017293763546799863,
          -0.4726321003222332,
          -0.36653467509887955,
          1.0180454260844312,
          -1.03519570764314,
          0.3389318380802772,
          0.812223337567478,
          0.8902213847824088,
          -0.7348828731063483,
          0.24740508529709995,
          -0.390977241932368,
          -0.24349816141185057,
          1.0035691879772917,
          0.30352284117021006,
          -1.3637027433559923,
          -2.9046565143176446,
          -1.7156653316972315,
          -0.43985418482374633,
          -0.23818554289103908,
          -0.16982441283701913,
          -0.12416536028051944,
          0.29517994800432945,
          1.127974021329884,
          -1.876925576926292,
          -0.7789073083117971,
          1.048868194426731,
          -0.3031065002552385,
          -0.21316942782481593,
          -1.0400549437061217,
          0.1443963432098052,
          0.6831107652316837,
          0.29555616536760526,
          0.7505260320695035,
          1.5052179698984347,
          0.351952471683062,
          0.6786431424028757,
          -1.0212729358912702,
          0.31023404977390223,
          0.01421079046500441,
          1.2133150283485756,
          -0.8866158028120816,
          -0.04176143433497564,
          -0.777240921072566,
          -0.3310857553406736,
          1.6445831575159335,
          -1.6499805010715252,
          1.793292294259239,
          -0.1272426126263143,
          -1.0676272720233113,
          -0.4986394020245483,
          1.5231546562886453,
          1.0040247850102826,
          0.7371758811967065,
          0.4036660213850881,
          -0.42790295784521587,
          -0.6128811573499702,
          -1.1626636722189663,
          1.4110151800842563,
          -0.9914541467676636,
          -1.2013169708589466,
          1.290891399725991,
          -0.13213410691460678,
          -0.9354918528133365,
          1.4318257462145008,
          -1.339550038029291,
          0.6303243300355478,
          0.771946959614705,
          1.3732392213469538,
          -0.6069494177580749,
          -0.02449558822175565,
          -1.147484768481603,
          0.07655272096212992,
          -1.6186033983628658,
          0.9913004245400878,
          -0.5615652639744326,
          1.538081671801961,
          -1.945692116790448,
          -0.5286786073953315,
          0.9601880845977661,
          0.3968522661868303,
          0.6801979602789943,
          0.14225603119150618,
          0.44060786681145275,
          -0.6586537214373912,
          -0.8612836186627151,
          -1.3886023729777546,
          0.7876097372095733,
          -0.5485728851799364,
          0.2687751232571255,
          2.0621022432805636,
          1.3909595930819212,
          3.520181610538579,
          0.12732660727325176,
          -0.05928677419280255,
          1.7309948326435274,
          -0.06130187829152743,
          -0.29010385403458416,
          -0.42603215676150163,
          -0.17247157812442115,
          0.8245890759311156,
          -1.048096128762741,
          0.6821600772153675,
          -0.8140890293236933,
          0.9657646148765231,
          0.5788886556152342,
          0.4104799911665252,
          1.6355790947437256,
          -0.5164097230309797,
          -1.4771145093594844,
          0.9724698223833527,
          -1.3668397321848411,
          1.3307173417477707,
          1.5029206582980212,
          1.1354304460760967,
          1.4716008412679784,
          0.05026147179214043,
          0.587866862095619,
          0.8182048062268973,
          1.600905020211955,
          -1.0847250426721835,
          2.2071938311999535,
          0.8948045363795778,
          -0.5178377768773704,
          -1.2618625696424983,
          -1.4898629311574805,
          1.087875975277921,
          -0.3391000584550678,
          0.8414596963684104,
          -1.7236602107756323,
          1.1548113028618077,
          -0.5749361687924387,
          -0.8997819609718234,
          1.3213850765419812,
          0.4946119401284745,
          0.5513702963384528,
          -0.48603076210750096,
          -0.7504878647713034,
          0.9384543056924438,
          -0.9680208250440654,
          -0.13162729094013353,
          -1.7428311019162674,
          -1.0246309284308492,
          -0.3029973195632033,
          -0.2589239237380668,
          -1.3273999939427537,
          0.8568474051452982,
          -0.6081193457518573,
          -0.8533718126068206,
          -0.2200903561513782,
          0.2436919624480701,
          0.2002530779899242,
          1.4205852983345133,
          0.3943555479727485,
          1.5353439775102222,
          0.6365803310643398,
          0.20191748184924538,
          1.6100989651272533,
          -0.6575313694170514,
          0.0052608227889836415,
          -1.284572731337026,
          0.49771323943217355,
          -0.11573117662411021,
          -1.050750245855353,
          -0.14583700026117302,
          -0.7815173575396827,
          -0.5136627482913498,
          -0.018889091025607003,
          0.08654233543103224,
          0.40601783328247487,
          1.6558013382578631,
          -0.45965945681049364,
          -1.4241509268266408,
          0.30600323309248456,
          0.41791055021259077,
          0.9709609689354972,
          0.5009729269866801,
          1.459256199985544,
          0.28210796566429214,
          -0.4367044810390087,
          0.2907263087786034,
          0.7769196504045904,
          0.3750286419628293,
          -1.8838494628187192,
          0.3761524724569936,
          -0.48665058519020604,
          -1.0021118646202118,
          0.3971716835859568,
          -1.2492676136185172,
          0.6025497877271626,
          0.8996619953205315,
          -1.7708283128964313,
          0.3013065613181132,
          -1.5588474745972674,
          0.7896301384867401,
          1.8982436932013222,
          0.6227279175347086,
          -0.13030334948397823,
          -0.6486028467972492,
          -1.1860206174482346,
          -0.24915626833305948,
          0.6373043970931487,
          -0.4798227135324876,
          1.0097115542912543,
          -0.5521275886844245,
          -0.44040582070546735,
          0.4419018395646361,
          -2.192055699130568,
          0.06498251382575786,
          -0.374334858457867,
          0.9664178938259174,
          2.0459009116378013,
          0.03709723592564665,
          -0.8534695823484232,
          0.1071777191463058,
          -0.18459282072442257,
          -0.13814317734638104,
          0.8811385158742799,
          -0.739149794644152,
          1.4941058831559062,
          -1.2847243456529798,
          -0.021441140686781872,
          0.9556147715486298,
          -2.9093442263557265,
          1.7141633042458764,
          0.35333969257464315,
          0.0744930969956917,
          -0.5958063348777476,
          -1.4610636644837414,
          -0.28489763407326224,
          -0.9931186229804431,
          -0.2560818853622516,
          0.8152956177298614,
          -0.27220661530040446,
          1.2686842526725937,
          0.14999830530099226,
          -0.16862208305191634,
          -1.2589685041725895,
          -1.3426899194331248,
          1.076985764517472,
          -0.580953662890991,
          -1.574213503815354,
          -1.1673168269127037,
          -1.5333001598271705,
          -1.1249060446653276,
          0.060252184324988675
         ],
         "z": [
          -1.1042513548185036,
          -0.711559612563328,
          -1.2114415417063227,
          0.8092042078666943,
          -2.4014285054142945,
          -1.8410455852773138,
          1.5604879182415972,
          0.05996234596655243,
          -0.6160464636924715,
          0.7112454831386249,
          -0.9770204925996181,
          1.4279284048837264,
          1.1544240502196426,
          0.9203794584198217,
          0.2568628326495673,
          0.027602949653717988,
          -0.01677456192130268,
          -0.3377583470396168,
          1.3249705770275708,
          1.8112806971404678,
          0.613276572968934,
          0.7953522778010039,
          0.5176255310133443,
          -0.6201835964086784,
          0.6049132285461646,
          0.2675740613189545,
          -0.2667626358754262,
          -0.02267517007268268,
          -0.4768686940794734,
          0.26378714704919204,
          0.8672836486887664,
          -1.3583314122437369,
          0.5956667793944551,
          0.26386308319713647,
          -0.5017027650433102,
          -1.3879938505716896,
          -0.330905722270921,
          -0.057022419689003095,
          1.5274661016159585,
          -0.34349904127371345,
          -1.2702427874575712,
          -0.19932561819284608,
          0.6708285988605929,
          -0.9264897243722692,
          -1.1716717717888265,
          0.6605746107969669,
          -0.08358026027502978,
          -1.157784327639925,
          1.0651269161062487,
          -0.7187519250837116,
          1.7039430681299081,
          0.8525363677813597,
          0.9677797622751064,
          -0.5635443148229542,
          1.0159727601949435,
          1.085242343838977,
          -0.10119560133526329,
          -0.4538319971085448,
          -1.2576235772337525,
          0.6146694003155158,
          -1.014687182123547,
          0.55334614410138,
          0.21599536959128976,
          -0.03114650520940923,
          -1.022273140030246,
          -1.7573625196423888,
          -0.3688173584014448,
          0.1559969807681836,
          0.3862290436094739,
          -0.5554264058030471,
          -0.7117429580324072,
          -0.06647669272858357,
          1.4659614809548123,
          -1.8824280736963006,
          0.46395462017365685,
          -0.02723534605468641,
          -0.3841787748812482,
          -1.2554739051288113,
          2.3003025898837786,
          0.1861566146386614,
          -0.184703990248402,
          0.24944374723131918,
          -0.2377415443525706,
          0.5229510415963646,
          -0.21691793927877506,
          0.12366219027574216,
          0.15458259130561045,
          0.05508339374238222,
          0.20613260590052707,
          1.2372734894697586,
          -0.7486316007927938,
          2.164766410189642,
          0.37416491960889325,
          -0.7199736708896141,
          -1.8515135668531746,
          0.27149231085845604,
          -1.7367377362017997,
          -0.08112671893918527,
          0.42888932565995525,
          -1.7589563251347309,
          1.257133533596847,
          -1.3348177771051097,
          -0.6748429313213343,
          -1.5419692838340875,
          0.8652232590651368,
          1.0918842688422477,
          -0.5908885105418094,
          0.3084104356038583,
          0.9825031944839276,
          -0.6137108937623927,
          -0.3545134873113933,
          0.8207586401265942,
          0.3546831836869364,
          2.1800802315967687,
          -1.1830325403281914,
          0.2697222950325493,
          -2.100721147838099,
          1.471345759254659,
          0.7662615884615083,
          -1.0793051429134748,
          -0.2010191346330819,
          0.7187784649224807,
          -0.38534143604544413,
          -0.3694175820357477,
          -0.9071080838478249,
          -0.14630351772308822,
          0.6942892071037147,
          1.0897438077756796,
          -0.051385545801644984,
          -0.24605677385495578,
          0.6210678000949026,
          -1.9063431128372457,
          0.11709303868109724,
          -0.7429851341049538,
          -1.313075711004968,
          -0.7676278633203784,
          1.0834973029271908,
          1.9444904998724242,
          1.2037799151290955,
          2.1790370762736244,
          -1.7711114847719014,
          1.1912126611250093,
          1.337351822523319,
          1.1291285555541382,
          0.6826270922643262,
          -0.7863945319244883,
          0.013518588899733992,
          1.099818601350438,
          0.7187314572618028,
          -0.9380737605630968,
          0.24066204894014268,
          -0.2104545482906461,
          -0.4367907514083555,
          1.1598885611247414,
          -0.9683700828730788,
          1.3071861818975192,
          0.5920492582828254,
          -0.6261657799903537,
          -1.7259994588363987,
          -0.8675617545808576,
          0.8803061726539447,
          0.8915146283970203,
          -1.1084093009908669,
          1.8223859083412364,
          -1.1464980035824308,
          -0.5905961794989173,
          0.2250874511623426,
          0.8926148366715887,
          1.576413443359162,
          -0.1573691453433338,
          -0.1960421779528558,
          -0.5854454694842586,
          -0.47690579112522036,
          0.8713500387971097,
          0.028307439677373647,
          0.7069833352914539,
          1.67141561004668,
          -0.31163407621697264,
          0.07007260097201491,
          1.0794844971249666,
          0.12321940232605064,
          1.5031540212009697,
          0.43776993636998196,
          0.9784375118585742,
          -1.8501134675592577,
          -2.204487547520755,
          -1.6929889505686382,
          -0.0018753461953492643,
          -0.16364997971806386,
          0.08848928351766279,
          -1.4280300319307428,
          0.3040453502321655,
          0.4901721265702274,
          1.632453996153521,
          0.9938037289086032,
          -1.7082649210854834,
          -0.5843286954843958,
          -2.226802405759286,
          2.2248742156907673,
          0.4206419579092801,
          2.33870542632369,
          -0.9615720280895513,
          1.060344767637882,
          -0.6172192417903755,
          -2.05221881154337,
          0.04814490679089823,
          -1.4848354794753649,
          0.0641895087672622,
          -0.4553246067601757,
          -0.23337750588069456,
          -0.26463420862799014,
          0.6680520447796588,
          -2.451350479694717,
          0.520927275453847,
          1.387605475227898,
          0.02248879173633083,
          1.5878510067680862,
          -0.43822999743773405,
          -1.100522143867041,
          -1.8537758954662886,
          -0.8767088419373377,
          -0.17194846393662616,
          0.33805188821346555,
          -0.005940660616299085,
          0.66149310956671,
          0.6759134015576009,
          -0.6496728880878023,
          -2.4106032343361896,
          0.10672405836580759,
          0.7045178614812512,
          -1.4239195683798154,
          0.08251882945624829,
          -1.2001625107179528,
          -0.2531622087761522,
          -0.575283727222867,
          1.4885801819100604,
          -0.7041308238503374,
          -0.7514395966927367,
          -1.0913160129112753,
          -0.23692646540970022,
          -1.0809824564106671,
          -0.23191840746668105,
          -2.1945288355143013,
          -0.4045011735165434,
          -0.008791282396219426,
          -0.5982455818753567,
          0.4551372596855133,
          -1.0050765835548199,
          -0.5661319539065883,
          -0.9189158060425617,
          -1.6671547332845955,
          1.057301834087577,
          -0.7128822569017506,
          0.6056140036103947,
          0.3141480127359447,
          -1.088907873649394,
          0.02175995227171857,
          0.95227705447893,
          1.139778111467855,
          -0.022304046789354964,
          0.6262022287063427,
          1.4314773316839673,
          -0.07169236741934108,
          -0.5940107013770377,
          2.5703625695503463,
          1.0612569272259753,
          0.7262379757103833,
          1.1252802101382933,
          0.7061122806745003,
          -0.15024208454954646,
          0.11460326589102951,
          -1.1392593520402523,
          -0.29657634091284363,
          -0.7158872467774171,
          1.135712173153251,
          -0.6049271597923712,
          -1.149165203736831,
          0.43393813668310466,
          -1.1455050450442932,
          2.3778653507153575,
          -1.6284934848038315,
          -1.829322984832132,
          -0.5020407249106117,
          0.32546905162482315,
          1.0426477197392792,
          -0.29138276064976415,
          0.628903192218719,
          0.035368757418178715,
          2.3258395645286023,
          1.3213336230330193,
          -0.341570425844503,
          0.6818015265542635,
          -1.6646606036112022,
          0.5709013161609903,
          0.6988182717311318,
          -0.41556754293431675,
          0.29939688809003884,
          0.9545189333518829,
          -0.3513092992350905,
          0.7809435715740828,
          -0.22298737365878848,
          0.6828332221684437,
          -0.6825281691210342,
          0.36830004537535627,
          -0.44384702375885565,
          -2.2522087790246537,
          0.14057213127372972,
          -0.3954413608932325,
          0.534745431770394,
          -1.8153786465534176,
          -0.47487483661585583,
          -1.0757996997653243,
          1.567143665652093,
          -0.8150451920001096,
          -0.642779542072957,
          -1.878495550938325,
          1.4791637374635271,
          -0.38862650809392896,
          0.9181412379134274,
          -0.48370666201994494,
          -0.8739611765946539,
          0.5273877369566243,
          0.1983629263470115,
          -0.6789755317359153,
          0.007273455528077815,
          -1.3317784768419754,
          -0.45308330664817753,
          0.5430432484445431,
          -1.0555454848555588,
          0.4648983574109401,
          -1.9892165614845536,
          0.7754440264954318,
          -0.489014202391813,
          1.5278464827396268,
          -1.0171360622124117,
          -1.0015731243600428,
          0.2523158703335991,
          1.0928513162761015,
          1.4964918416661335,
          -0.5302002863519996,
          1.0559214945796527,
          0.02421005813264385,
          0.8844842315614169,
          1.008776383046125,
          0.013453459710969085,
          -0.28383632361589894,
          -0.5591298369409667,
          1.075648900640865,
          -0.5869997302784471,
          1.48932244992878,
          -0.5937365416642316,
          0.752137031588637,
          0.8060218641423341,
          0.051137989666976504,
          0.8698379312144597,
          -0.27692172341837834,
          -0.30304011018844174,
          -0.4546828588520332,
          1.1348423059846477,
          -0.10476116432113661,
          -0.3424285762237335,
          -0.37339420558208297,
          -0.5045733441460516,
          0.2649674044569407,
          -1.4867610559113529,
          0.5248263144877168,
          -0.3642477458461506,
          0.07644226944694477,
          -0.9432980289594537,
          0.11246128533053001,
          0.5154013302889058,
          -0.08679842020594554,
          -0.3420541500898528,
          -0.2570993320730103,
          0.13289782613193848,
          0.8788303938623319,
          -1.4443936437313307,
          0.15289904951728203,
          0.3350437528813953,
          -0.174750475381897,
          -0.2345619349192137,
          -0.9163769668203856,
          0.2854046057944894,
          -0.5473772592800354,
          0.43764902991544247,
          0.7516466793484402,
          -1.4964267730144176,
          1.3976129675610918,
          0.9412447505390179,
          -0.618943058303168,
          0.8745530480398687,
          0.20619855309101334,
          -0.12910919770176696,
          0.6007117783776449,
          -0.1997692567032932,
          -0.5235000422357688,
          0.644346205333332,
          2.505499742225245,
          -0.45651188177384017,
          0.2558167503989752
         ]
        }
       ],
       "layout": {
        "margin": {
         "b": 0,
         "l": 0,
         "r": 0,
         "t": 0
        },
        "template": {
         "data": {
          "bar": [
           {
            "error_x": {
             "color": "#2a3f5f"
            },
            "error_y": {
             "color": "#2a3f5f"
            },
            "marker": {
             "line": {
              "color": "#E5ECF6",
              "width": 0.5
             },
             "pattern": {
              "fillmode": "overlay",
              "size": 10,
              "solidity": 0.2
             }
            },
            "type": "bar"
           }
          ],
          "barpolar": [
           {
            "marker": {
             "line": {
              "color": "#E5ECF6",
              "width": 0.5
             },
             "pattern": {
              "fillmode": "overlay",
              "size": 10,
              "solidity": 0.2
             }
            },
            "type": "barpolar"
           }
          ],
          "carpet": [
           {
            "aaxis": {
             "endlinecolor": "#2a3f5f",
             "gridcolor": "white",
             "linecolor": "white",
             "minorgridcolor": "white",
             "startlinecolor": "#2a3f5f"
            },
            "baxis": {
             "endlinecolor": "#2a3f5f",
             "gridcolor": "white",
             "linecolor": "white",
             "minorgridcolor": "white",
             "startlinecolor": "#2a3f5f"
            },
            "type": "carpet"
           }
          ],
          "choropleth": [
           {
            "colorbar": {
             "outlinewidth": 0,
             "ticks": ""
            },
            "type": "choropleth"
           }
          ],
          "contour": [
           {
            "colorbar": {
             "outlinewidth": 0,
             "ticks": ""
            },
            "colorscale": [
             [
              0,
              "#0d0887"
             ],
             [
              0.1111111111111111,
              "#46039f"
             ],
             [
              0.2222222222222222,
              "#7201a8"
             ],
             [
              0.3333333333333333,
              "#9c179e"
             ],
             [
              0.4444444444444444,
              "#bd3786"
             ],
             [
              0.5555555555555556,
              "#d8576b"
             ],
             [
              0.6666666666666666,
              "#ed7953"
             ],
             [
              0.7777777777777778,
              "#fb9f3a"
             ],
             [
              0.8888888888888888,
              "#fdca26"
             ],
             [
              1,
              "#f0f921"
             ]
            ],
            "type": "contour"
           }
          ],
          "contourcarpet": [
           {
            "colorbar": {
             "outlinewidth": 0,
             "ticks": ""
            },
            "type": "contourcarpet"
           }
          ],
          "heatmap": [
           {
            "colorbar": {
             "outlinewidth": 0,
             "ticks": ""
            },
            "colorscale": [
             [
              0,
              "#0d0887"
             ],
             [
              0.1111111111111111,
              "#46039f"
             ],
             [
              0.2222222222222222,
              "#7201a8"
             ],
             [
              0.3333333333333333,
              "#9c179e"
             ],
             [
              0.4444444444444444,
              "#bd3786"
             ],
             [
              0.5555555555555556,
              "#d8576b"
             ],
             [
              0.6666666666666666,
              "#ed7953"
             ],
             [
              0.7777777777777778,
              "#fb9f3a"
             ],
             [
              0.8888888888888888,
              "#fdca26"
             ],
             [
              1,
              "#f0f921"
             ]
            ],
            "type": "heatmap"
           }
          ],
          "heatmapgl": [
           {
            "colorbar": {
             "outlinewidth": 0,
             "ticks": ""
            },
            "colorscale": [
             [
              0,
              "#0d0887"
             ],
             [
              0.1111111111111111,
              "#46039f"
             ],
             [
              0.2222222222222222,
              "#7201a8"
             ],
             [
              0.3333333333333333,
              "#9c179e"
             ],
             [
              0.4444444444444444,
              "#bd3786"
             ],
             [
              0.5555555555555556,
              "#d8576b"
             ],
             [
              0.6666666666666666,
              "#ed7953"
             ],
             [
              0.7777777777777778,
              "#fb9f3a"
             ],
             [
              0.8888888888888888,
              "#fdca26"
             ],
             [
              1,
              "#f0f921"
             ]
            ],
            "type": "heatmapgl"
           }
          ],
          "histogram": [
           {
            "marker": {
             "pattern": {
              "fillmode": "overlay",
              "size": 10,
              "solidity": 0.2
             }
            },
            "type": "histogram"
           }
          ],
          "histogram2d": [
           {
            "colorbar": {
             "outlinewidth": 0,
             "ticks": ""
            },
            "colorscale": [
             [
              0,
              "#0d0887"
             ],
             [
              0.1111111111111111,
              "#46039f"
             ],
             [
              0.2222222222222222,
              "#7201a8"
             ],
             [
              0.3333333333333333,
              "#9c179e"
             ],
             [
              0.4444444444444444,
              "#bd3786"
             ],
             [
              0.5555555555555556,
              "#d8576b"
             ],
             [
              0.6666666666666666,
              "#ed7953"
             ],
             [
              0.7777777777777778,
              "#fb9f3a"
             ],
             [
              0.8888888888888888,
              "#fdca26"
             ],
             [
              1,
              "#f0f921"
             ]
            ],
            "type": "histogram2d"
           }
          ],
          "histogram2dcontour": [
           {
            "colorbar": {
             "outlinewidth": 0,
             "ticks": ""
            },
            "colorscale": [
             [
              0,
              "#0d0887"
             ],
             [
              0.1111111111111111,
              "#46039f"
             ],
             [
              0.2222222222222222,
              "#7201a8"
             ],
             [
              0.3333333333333333,
              "#9c179e"
             ],
             [
              0.4444444444444444,
              "#bd3786"
             ],
             [
              0.5555555555555556,
              "#d8576b"
             ],
             [
              0.6666666666666666,
              "#ed7953"
             ],
             [
              0.7777777777777778,
              "#fb9f3a"
             ],
             [
              0.8888888888888888,
              "#fdca26"
             ],
             [
              1,
              "#f0f921"
             ]
            ],
            "type": "histogram2dcontour"
           }
          ],
          "mesh3d": [
           {
            "colorbar": {
             "outlinewidth": 0,
             "ticks": ""
            },
            "type": "mesh3d"
           }
          ],
          "parcoords": [
           {
            "line": {
             "colorbar": {
              "outlinewidth": 0,
              "ticks": ""
             }
            },
            "type": "parcoords"
           }
          ],
          "pie": [
           {
            "automargin": true,
            "type": "pie"
           }
          ],
          "scatter": [
           {
            "marker": {
             "colorbar": {
              "outlinewidth": 0,
              "ticks": ""
             }
            },
            "type": "scatter"
           }
          ],
          "scatter3d": [
           {
            "line": {
             "colorbar": {
              "outlinewidth": 0,
              "ticks": ""
             }
            },
            "marker": {
             "colorbar": {
              "outlinewidth": 0,
              "ticks": ""
             }
            },
            "type": "scatter3d"
           }
          ],
          "scattercarpet": [
           {
            "marker": {
             "colorbar": {
              "outlinewidth": 0,
              "ticks": ""
             }
            },
            "type": "scattercarpet"
           }
          ],
          "scattergeo": [
           {
            "marker": {
             "colorbar": {
              "outlinewidth": 0,
              "ticks": ""
             }
            },
            "type": "scattergeo"
           }
          ],
          "scattergl": [
           {
            "marker": {
             "colorbar": {
              "outlinewidth": 0,
              "ticks": ""
             }
            },
            "type": "scattergl"
           }
          ],
          "scattermapbox": [
           {
            "marker": {
             "colorbar": {
              "outlinewidth": 0,
              "ticks": ""
             }
            },
            "type": "scattermapbox"
           }
          ],
          "scatterpolar": [
           {
            "marker": {
             "colorbar": {
              "outlinewidth": 0,
              "ticks": ""
             }
            },
            "type": "scatterpolar"
           }
          ],
          "scatterpolargl": [
           {
            "marker": {
             "colorbar": {
              "outlinewidth": 0,
              "ticks": ""
             }
            },
            "type": "scatterpolargl"
           }
          ],
          "scatterternary": [
           {
            "marker": {
             "colorbar": {
              "outlinewidth": 0,
              "ticks": ""
             }
            },
            "type": "scatterternary"
           }
          ],
          "surface": [
           {
            "colorbar": {
             "outlinewidth": 0,
             "ticks": ""
            },
            "colorscale": [
             [
              0,
              "#0d0887"
             ],
             [
              0.1111111111111111,
              "#46039f"
             ],
             [
              0.2222222222222222,
              "#7201a8"
             ],
             [
              0.3333333333333333,
              "#9c179e"
             ],
             [
              0.4444444444444444,
              "#bd3786"
             ],
             [
              0.5555555555555556,
              "#d8576b"
             ],
             [
              0.6666666666666666,
              "#ed7953"
             ],
             [
              0.7777777777777778,
              "#fb9f3a"
             ],
             [
              0.8888888888888888,
              "#fdca26"
             ],
             [
              1,
              "#f0f921"
             ]
            ],
            "type": "surface"
           }
          ],
          "table": [
           {
            "cells": {
             "fill": {
              "color": "#EBF0F8"
             },
             "line": {
              "color": "white"
             }
            },
            "header": {
             "fill": {
              "color": "#C8D4E3"
             },
             "line": {
              "color": "white"
             }
            },
            "type": "table"
           }
          ]
         },
         "layout": {
          "annotationdefaults": {
           "arrowcolor": "#2a3f5f",
           "arrowhead": 0,
           "arrowwidth": 1
          },
          "autotypenumbers": "strict",
          "coloraxis": {
           "colorbar": {
            "outlinewidth": 0,
            "ticks": ""
           }
          },
          "colorscale": {
           "diverging": [
            [
             0,
             "#8e0152"
            ],
            [
             0.1,
             "#c51b7d"
            ],
            [
             0.2,
             "#de77ae"
            ],
            [
             0.3,
             "#f1b6da"
            ],
            [
             0.4,
             "#fde0ef"
            ],
            [
             0.5,
             "#f7f7f7"
            ],
            [
             0.6,
             "#e6f5d0"
            ],
            [
             0.7,
             "#b8e186"
            ],
            [
             0.8,
             "#7fbc41"
            ],
            [
             0.9,
             "#4d9221"
            ],
            [
             1,
             "#276419"
            ]
           ],
           "sequential": [
            [
             0,
             "#0d0887"
            ],
            [
             0.1111111111111111,
             "#46039f"
            ],
            [
             0.2222222222222222,
             "#7201a8"
            ],
            [
             0.3333333333333333,
             "#9c179e"
            ],
            [
             0.4444444444444444,
             "#bd3786"
            ],
            [
             0.5555555555555556,
             "#d8576b"
            ],
            [
             0.6666666666666666,
             "#ed7953"
            ],
            [
             0.7777777777777778,
             "#fb9f3a"
            ],
            [
             0.8888888888888888,
             "#fdca26"
            ],
            [
             1,
             "#f0f921"
            ]
           ],
           "sequentialminus": [
            [
             0,
             "#0d0887"
            ],
            [
             0.1111111111111111,
             "#46039f"
            ],
            [
             0.2222222222222222,
             "#7201a8"
            ],
            [
             0.3333333333333333,
             "#9c179e"
            ],
            [
             0.4444444444444444,
             "#bd3786"
            ],
            [
             0.5555555555555556,
             "#d8576b"
            ],
            [
             0.6666666666666666,
             "#ed7953"
            ],
            [
             0.7777777777777778,
             "#fb9f3a"
            ],
            [
             0.8888888888888888,
             "#fdca26"
            ],
            [
             1,
             "#f0f921"
            ]
           ]
          },
          "colorway": [
           "#636efa",
           "#EF553B",
           "#00cc96",
           "#ab63fa",
           "#FFA15A",
           "#19d3f3",
           "#FF6692",
           "#B6E880",
           "#FF97FF",
           "#FECB52"
          ],
          "font": {
           "color": "#2a3f5f"
          },
          "geo": {
           "bgcolor": "white",
           "lakecolor": "white",
           "landcolor": "#E5ECF6",
           "showlakes": true,
           "showland": true,
           "subunitcolor": "white"
          },
          "hoverlabel": {
           "align": "left"
          },
          "hovermode": "closest",
          "mapbox": {
           "style": "light"
          },
          "paper_bgcolor": "white",
          "plot_bgcolor": "#E5ECF6",
          "polar": {
           "angularaxis": {
            "gridcolor": "white",
            "linecolor": "white",
            "ticks": ""
           },
           "bgcolor": "#E5ECF6",
           "radialaxis": {
            "gridcolor": "white",
            "linecolor": "white",
            "ticks": ""
           }
          },
          "scene": {
           "xaxis": {
            "backgroundcolor": "#E5ECF6",
            "gridcolor": "white",
            "gridwidth": 2,
            "linecolor": "white",
            "showbackground": true,
            "ticks": "",
            "zerolinecolor": "white"
           },
           "yaxis": {
            "backgroundcolor": "#E5ECF6",
            "gridcolor": "white",
            "gridwidth": 2,
            "linecolor": "white",
            "showbackground": true,
            "ticks": "",
            "zerolinecolor": "white"
           },
           "zaxis": {
            "backgroundcolor": "#E5ECF6",
            "gridcolor": "white",
            "gridwidth": 2,
            "linecolor": "white",
            "showbackground": true,
            "ticks": "",
            "zerolinecolor": "white"
           }
          },
          "shapedefaults": {
           "line": {
            "color": "#2a3f5f"
           }
          },
          "ternary": {
           "aaxis": {
            "gridcolor": "white",
            "linecolor": "white",
            "ticks": ""
           },
           "baxis": {
            "gridcolor": "white",
            "linecolor": "white",
            "ticks": ""
           },
           "bgcolor": "#E5ECF6",
           "caxis": {
            "gridcolor": "white",
            "linecolor": "white",
            "ticks": ""
           }
          },
          "title": {
           "x": 0.05
          },
          "xaxis": {
           "automargin": true,
           "gridcolor": "white",
           "linecolor": "white",
           "ticks": "",
           "title": {
            "standoff": 15
           },
           "zerolinecolor": "white",
           "zerolinewidth": 2
          },
          "yaxis": {
           "automargin": true,
           "gridcolor": "white",
           "linecolor": "white",
           "ticks": "",
           "title": {
            "standoff": 15
           },
           "zerolinecolor": "white",
           "zerolinewidth": 2
          }
         }
        }
       }
      },
      "text/html": [
       "<div>                            <div id=\"eb6ce282-d2df-4320-936f-66bec29acccb\" class=\"plotly-graph-div\" style=\"height:525px; width:100%;\"></div>            <script type=\"text/javascript\">                require([\"plotly\"], function(Plotly) {                    window.PLOTLYENV=window.PLOTLYENV || {};                                    if (document.getElementById(\"eb6ce282-d2df-4320-936f-66bec29acccb\")) {                    Plotly.newPlot(                        \"eb6ce282-d2df-4320-936f-66bec29acccb\",                        [{\"marker\":{\"color\":[-1.1042513548185036,-0.711559612563328,-1.2114415417063227,0.8092042078666943,-2.4014285054142945,-1.8410455852773138,1.5604879182415972,0.05996234596655243,-0.6160464636924715,0.7112454831386249,-0.9770204925996181,1.4279284048837264,1.1544240502196426,0.9203794584198217,0.2568628326495673,0.027602949653717988,-0.01677456192130268,-0.3377583470396168,1.3249705770275708,1.8112806971404678,0.613276572968934,0.7953522778010039,0.5176255310133443,-0.6201835964086784,0.6049132285461646,0.2675740613189545,-0.2667626358754262,-0.02267517007268268,-0.4768686940794734,0.26378714704919204,0.8672836486887664,-1.3583314122437369,0.5956667793944551,0.26386308319713647,-0.5017027650433102,-1.3879938505716896,-0.330905722270921,-0.057022419689003095,1.5274661016159585,-0.34349904127371345,-1.2702427874575712,-0.19932561819284608,0.6708285988605929,-0.9264897243722692,-1.1716717717888265,0.6605746107969669,-0.08358026027502978,-1.157784327639925,1.0651269161062487,-0.7187519250837116,1.7039430681299081,0.8525363677813597,0.9677797622751064,-0.5635443148229542,1.0159727601949435,1.085242343838977,-0.10119560133526329,-0.4538319971085448,-1.2576235772337525,0.6146694003155158,-1.014687182123547,0.55334614410138,0.21599536959128976,-0.03114650520940923,-1.022273140030246,-1.7573625196423888,-0.3688173584014448,0.1559969807681836,0.3862290436094739,-0.5554264058030471,-0.7117429580324072,-0.06647669272858357,1.4659614809548123,-1.8824280736963006,0.46395462017365685,-0.02723534605468641,-0.3841787748812482,-1.2554739051288113,2.3003025898837786,0.1861566146386614,-0.184703990248402,0.24944374723131918,-0.2377415443525706,0.5229510415963646,-0.21691793927877506,0.12366219027574216,0.15458259130561045,0.05508339374238222,0.20613260590052707,1.2372734894697586,-0.7486316007927938,2.164766410189642,0.37416491960889325,-0.7199736708896141,-1.8515135668531746,0.27149231085845604,-1.7367377362017997,-0.08112671893918527,0.42888932565995525,-1.7589563251347309,1.257133533596847,-1.3348177771051097,-0.6748429313213343,-1.5419692838340875,0.8652232590651368,1.0918842688422477,-0.5908885105418094,0.3084104356038583,0.9825031944839276,-0.6137108937623927,-0.3545134873113933,0.8207586401265942,0.3546831836869364,2.1800802315967687,-1.1830325403281914,0.2697222950325493,-2.100721147838099,1.471345759254659,0.7662615884615083,-1.0793051429134748,-0.2010191346330819,0.7187784649224807,-0.38534143604544413,-0.3694175820357477,-0.9071080838478249,-0.14630351772308822,0.6942892071037147,1.0897438077756796,-0.051385545801644984,-0.24605677385495578,0.6210678000949026,-1.9063431128372457,0.11709303868109724,-0.7429851341049538,-1.313075711004968,-0.7676278633203784,1.0834973029271908,1.9444904998724242,1.2037799151290955,2.1790370762736244,-1.7711114847719014,1.1912126611250093,1.337351822523319,1.1291285555541382,0.6826270922643262,-0.7863945319244883,0.013518588899733992,1.099818601350438,0.7187314572618028,-0.9380737605630968,0.24066204894014268,-0.2104545482906461,-0.4367907514083555,1.1598885611247414,-0.9683700828730788,1.3071861818975192,0.5920492582828254,-0.6261657799903537,-1.7259994588363987,-0.8675617545808576,0.8803061726539447,0.8915146283970203,-1.1084093009908669,1.8223859083412364,-1.1464980035824308,-0.5905961794989173,0.2250874511623426,0.8926148366715887,1.576413443359162,-0.1573691453433338,-0.1960421779528558,-0.5854454694842586,-0.47690579112522036,0.8713500387971097,0.028307439677373647,0.7069833352914539,1.67141561004668,-0.31163407621697264,0.07007260097201491,1.0794844971249666,0.12321940232605064,1.5031540212009697,0.43776993636998196,0.9784375118585742,-1.8501134675592577,-2.204487547520755,-1.6929889505686382,-0.0018753461953492643,-0.16364997971806386,0.08848928351766279,-1.4280300319307428,0.3040453502321655,0.4901721265702274,1.632453996153521,0.9938037289086032,-1.7082649210854834,-0.5843286954843958,-2.226802405759286,2.2248742156907673,0.4206419579092801,2.33870542632369,-0.9615720280895513,1.060344767637882,-0.6172192417903755,-2.05221881154337,0.04814490679089823,-1.4848354794753649,0.0641895087672622,-0.4553246067601757,-0.23337750588069456,-0.26463420862799014,0.6680520447796588,-2.451350479694717,0.520927275453847,1.387605475227898,0.02248879173633083,1.5878510067680862,-0.43822999743773405,-1.100522143867041,-1.8537758954662886,-0.8767088419373377,-0.17194846393662616,0.33805188821346555,-0.005940660616299085,0.66149310956671,0.6759134015576009,-0.6496728880878023,-2.4106032343361896,0.10672405836580759,0.7045178614812512,-1.4239195683798154,0.08251882945624829,-1.2001625107179528,-0.2531622087761522,-0.575283727222867,1.4885801819100604,-0.7041308238503374,-0.7514395966927367,-1.0913160129112753,-0.23692646540970022,-1.0809824564106671,-0.23191840746668105,-2.1945288355143013,-0.4045011735165434,-0.008791282396219426,-0.5982455818753567,0.4551372596855133,-1.0050765835548199,-0.5661319539065883,-0.9189158060425617,-1.6671547332845955,1.057301834087577,-0.7128822569017506,0.6056140036103947,0.3141480127359447,-1.088907873649394,0.02175995227171857,0.95227705447893,1.139778111467855,-0.022304046789354964,0.6262022287063427,1.4314773316839673,-0.07169236741934108,-0.5940107013770377,2.5703625695503463,1.0612569272259753,0.7262379757103833,1.1252802101382933,0.7061122806745003,-0.15024208454954646,0.11460326589102951,-1.1392593520402523,-0.29657634091284363,-0.7158872467774171,1.135712173153251,-0.6049271597923712,-1.149165203736831,0.43393813668310466,-1.1455050450442932,2.3778653507153575,-1.6284934848038315,-1.829322984832132,-0.5020407249106117,0.32546905162482315,1.0426477197392792,-0.29138276064976415,0.628903192218719,0.035368757418178715,2.3258395645286023,1.3213336230330193,-0.341570425844503,0.6818015265542635,-1.6646606036112022,0.5709013161609903,0.6988182717311318,-0.41556754293431675,0.29939688809003884,0.9545189333518829,-0.3513092992350905,0.7809435715740828,-0.22298737365878848,0.6828332221684437,-0.6825281691210342,0.36830004537535627,-0.44384702375885565,-2.2522087790246537,0.14057213127372972,-0.3954413608932325,0.534745431770394,-1.8153786465534176,-0.47487483661585583,-1.0757996997653243,1.567143665652093,-0.8150451920001096,-0.642779542072957,-1.878495550938325,1.4791637374635271,-0.38862650809392896,0.9181412379134274,-0.48370666201994494,-0.8739611765946539,0.5273877369566243,0.1983629263470115,-0.6789755317359153,0.007273455528077815,-1.3317784768419754,-0.45308330664817753,0.5430432484445431,-1.0555454848555588,0.4648983574109401,-1.9892165614845536,0.7754440264954318,-0.489014202391813,1.5278464827396268,-1.0171360622124117,-1.0015731243600428,0.2523158703335991,1.0928513162761015,1.4964918416661335,-0.5302002863519996,1.0559214945796527,0.02421005813264385,0.8844842315614169,1.008776383046125,0.013453459710969085,-0.28383632361589894,-0.5591298369409667,1.075648900640865,-0.5869997302784471,1.48932244992878,-0.5937365416642316,0.752137031588637,0.8060218641423341,0.051137989666976504,0.8698379312144597,-0.27692172341837834,-0.30304011018844174,-0.4546828588520332,1.1348423059846477,-0.10476116432113661,-0.3424285762237335,-0.37339420558208297,-0.5045733441460516,0.2649674044569407,-1.4867610559113529,0.5248263144877168,-0.3642477458461506,0.07644226944694477,-0.9432980289594537,0.11246128533053001,0.5154013302889058,-0.08679842020594554,-0.3420541500898528,-0.2570993320730103,0.13289782613193848,0.8788303938623319,-1.4443936437313307,0.15289904951728203,0.3350437528813953,-0.174750475381897,-0.2345619349192137,-0.9163769668203856,0.2854046057944894,-0.5473772592800354,0.43764902991544247,0.7516466793484402,-1.4964267730144176,1.3976129675610918,0.9412447505390179,-0.618943058303168,0.8745530480398687,0.20619855309101334,-0.12910919770176696,0.6007117783776449,-0.1997692567032932,-0.5235000422357688,0.644346205333332,2.505499742225245,-0.45651188177384017,0.2558167503989752],\"colorscale\":[[0.0,\"#440154\"],[0.1111111111111111,\"#482878\"],[0.2222222222222222,\"#3e4989\"],[0.3333333333333333,\"#31688e\"],[0.4444444444444444,\"#26828e\"],[0.5555555555555556,\"#1f9e89\"],[0.6666666666666666,\"#35b779\"],[0.7777777777777778,\"#6ece58\"],[0.8888888888888888,\"#b5de2b\"],[1.0,\"#fde725\"]],\"opacity\":0.8,\"size\":12},\"mode\":\"markers\",\"type\":\"scatter3d\",\"x\":[1.4671087851387057,-0.2647978544994117,-0.38794360083473167,-0.7012367546388134,0.8137874295127907,-0.8771900995276473,0.2971991277864933,0.44758653732311804,0.029744984085353792,1.9825465946050358,-0.3195276827541725,0.803240531011482,-0.11770813675417356,0.9951650041972112,-1.1343669744881733,-0.569786193332018,1.4943376554059145,-0.36622641641922266,0.776625479682147,0.05503032663394866,-0.9543355816127763,0.27437431577610255,1.8377820776639024,-0.9700886760169892,0.0018579055766718444,1.1199710962403373,-0.8758186381650908,-0.7612310396323378,1.2479718792964185,0.16882457170439336,0.09830075486061562,-1.4385866670523222,-0.4291578338326953,0.1829218267667833,-0.7024150140591136,-0.01754931559792282,-2.0515243280919138,1.3985948026486652,1.8505792430934782,0.7366991036769404,0.6988232976863994,-0.809615194758698,1.4239999817298987,0.7246795995109439,-0.5148672289411842,-0.9687353798898071,-1.2194998164180737,0.9984812957165918,0.8600619451187206,-1.3286253520017455,-0.7187028675749697,0.6492436443183578,-0.2762875510531209,0.3550082629895201,0.4712313261512408,0.6912133489360077,0.13577331880960292,-0.020943679224107364,1.3461797527054251,-0.29248973782537036,0.465720136579361,-1.3249282408545198,1.7076250780146447,1.1915135918863624,-0.3572746505915522,0.24688365191651124,1.2853849685068233,-1.8287644645490213,0.4878819360591029,-0.08805204401945063,0.5346189713798459,0.2790035650208506,-0.41850611861628456,-0.6966743054454142,0.027339523489686744,1.3595603860059937,0.2762383754408278,-0.05562052992576831,-1.0056759948568839,-1.2328322683629194,-1.6366916401313578,0.157246783416869,2.7013610152846628,-0.4450957206031216,-0.17759997947456851,-0.5758487262158377,-0.5788705188644124,-1.2325342905393042,0.7071489106124521,1.8338452603639765,-0.04332420682783499,0.6557083798287224,0.7430552645635995,1.1812422529841242,-0.47186282048098455,0.7112519256706509,-0.16499344975722993,0.37305728504096447,-1.6014592211253451,0.237471326905999,-0.795134461319553,-0.226515969084309,-1.1580104193223506,0.4789980296178854,0.4291187926833575,-0.3060503424291289,1.3373410180358507,-1.074859053591727,-0.2327974703141972,-0.41644499473499447,0.4235181941633306,0.05529172642494606,1.6916761937614417,-1.1268360635239687,-0.21057484298992804,0.37199001709560914,1.387833988287571,-0.17155742350571856,-0.41805953161788334,1.3560388705923225,-1.023932589090271,-0.05198498374622005,-2.5522700845685997,-0.7599906619735938,-0.09293638656754932,1.5914796421948714,0.862443953807934,0.007373096482440929,1.8724860459666766,-0.53121511470742,0.4302275694593614,-0.9783977754022187,-1.7670238007412868,0.4993949433966954,1.2754273157055753,1.2513551579382958,-0.15965551649689433,0.6112767644960694,0.2872422951419383,1.9812959778838577,-1.009113346900722,-0.5644247905037353,-1.6806974558875274,1.1911058434674473,0.8314765517791067,-0.45340192819885056,-0.15236591788777354,-1.4556768214809075,-0.38263405625864244,0.20301052864671162,-0.2976893453419764,0.5497996733915201,-0.6964444657026919,-1.4521274708940322,-0.06873240611731614,0.5839432345916216,0.03218935885685145,0.8616390597292297,-1.3713736931085474,-1.2582852362945052,-0.24220176422129322,0.9085028787734456,0.05016045790141631,0.54118200631835,-0.34870423618196533,1.1316707228286838,0.5276961333452219,0.24742267132041734,-0.26691329161030114,0.046842277472176314,-0.273398842889395,-0.3337171780764505,0.7516066113885888,-1.3939339551578218,0.06538654533038261,-1.0965159939589042,-1.8137914127459691,1.167230116017945,-0.2733715756007981,-0.8489931316410274,-1.2972167954834615,0.6159846767332895,1.2498076269037268,-0.04096604407418527,-0.3575726171376303,0.9629610807558722,0.7667875231424901,0.20714446186542382,-0.45815429082790804,-1.620416473700282,-0.6426347367584078,0.9084377421608726,0.030767580671515717,0.5083730648810016,1.134335922786459,0.06064685781429046,-0.3629792843601528,-1.5749238122156464,1.0125422285523293,0.062196496002317705,-0.37201899126408655,0.10826847368691599,1.2676806808526886,1.0071710049798324,0.14127044627831326,1.7493404803600314,0.22188080213554354,0.201836208024607,0.6442201092826207,-1.7265185324674228,-0.8117505706955398,0.2708997762097853,0.9110170555650928,-1.1063779729746466,-0.5108728721739417,-1.3480989312508607,-0.1336792293025969,0.6113054966432326,-1.3286190816485646,-1.055397887761939,0.686346126422655,0.6562339417855573,-1.1700709769676487,1.2338617496854027,-0.7893690429281724,-1.1394829982173118,1.5433652316891953,0.635596406958784,1.128114436887729,0.7587658812182551,0.6433818828930423,0.2193675934749093,0.7366305638923579,0.23358750536374653,-0.23685294855885583,0.6423908159843981,-1.230244765171907,1.198663471888556,-1.4947682722271871,-0.8079352653754748,-0.24268743059466155,-0.8603540442714553,-0.6038296895329748,0.8388455586049609,-1.38350900280828,-0.37700909734112276,0.2119909799617479,-0.853787039244887,-0.6074211762753878,1.645997655439191,1.7426101174552902,0.15146579895417467,0.6818330438862552,-0.8679445742592624,-0.3772717994036919,-0.848491148688272,1.0755840047965344,1.0737201952476332,-0.46967340674362035,0.9192879152311405,-0.16854296377261205,0.11839696977558466,-1.5019223102704666,1.0353389014556909,1.2545051607087807,-0.2325780942323003,-0.7574983733106837,-0.40476320714835423,-0.17995835352307032,-1.0366912404567534,-0.6576897545979082,-0.36420949766984073,2.1400861680395957,0.10392727950078488,-0.3191627302555483,-0.27482912830561,-0.8751552722868627,0.9467389643265568,0.9121364810806991,-0.08457131301534185,1.2932753949273994,0.759797148392239,-1.361984952924987,-1.5293388557568104,1.1227310656490974,-0.3714221500410534,0.16489576832074748,-0.44335154681077166,-1.3458445883192758,-0.35631730218827734,-0.801285649685218,-0.12644075017737919,0.695216325832229,-0.373785529250393,-2.011346736812751,0.6066105304603324,-0.5497945280808666,-0.3507413202782878,-0.6473649646551155,0.5974618099346425,0.7393035385689329,-1.1568475974833832,0.05721299482475309,0.43820305166200674,1.095070071904575,-1.4094231260067895,1.0535101558100937,0.42821124575971486,-1.463808798555253,1.992253530657074,0.37845300794199993,1.649083301367453,0.0964985735535227,-1.2837822908697196,0.48997782995967115,4.544213531738237e-05,-2.1317786447701366,-0.06860945581048834,-1.888109553388989,-0.32648216720714784,-0.1337772325483959,-1.60846805638181,0.7482001860143235,-0.8953918937563073,-0.301356091047244,2.0702110785766124,-0.6672489011008299,-0.3846630126444758,-0.37715138100889295,0.053047823983202055,0.23154105423802934,0.582367110388863,0.030716906226165745,0.4837917996172297,-0.33941733943576213,0.7607809202011715,-0.7820022666992023,0.6266004966105357,-0.19746697160834037,0.6546714655656906,-0.45013794737594154,-0.5004867275811553,-1.3014946263262563,0.7051457520495831,-0.5443656295775035,-1.6875284262192258,-0.9424095933622851,1.4180567710355636,-0.36945092017669157,0.2913396720243371,1.6614824175805707,0.391988580303369,-0.09515474848458076,-0.5185884168496203,0.26174535149561967,0.279642144477915,0.11205283838898288,0.40360836772804326,0.6104506980578129,-1.700823131819446,-2.2754355352381315,0.7878084590286308,2.7750493093145585,-1.3947056114089424,-0.39293546624202297,0.16477477596999215,-0.8641320124340548,0.18360055728177166,-0.16254714444698753,-0.10876194714801511,0.6800579127401124,-0.4160762219246717,-0.16866414411630698,1.106493931122683,-0.5002482155016571,-1.1960171051310198,-0.3262498245331844,1.7349361732468955,0.03783466705514876,1.5864848369475917,0.38877593479148465,1.4112922692681331,0.025713447684422713,-0.1344715257634525,-0.784698550060416,1.0938459929900308,-1.3762175086055062,1.9500952803508358,0.007968891102958063,-0.7415014995880078,-0.267957264793978,0.329298992822772,-0.05199965944378834,0.3517741719140281,1.522576735920906,-0.19568637229843386,0.11982660147966044,0.7781546662381783,0.9778877453661006,-2.250368489176283],\"y\":[0.9616703171705878,-0.5818539701699045,-1.1332478651105784,0.7847646423691826,0.4676660868051959,0.5763145306623427,0.18194453313788497,1.4928728825623532,0.40592543769192724,1.202469656534092,-0.41849186670417604,-1.814067778398471,-0.5838541255185743,-1.1022690795157677,-0.09578516961745578,0.9302833131663519,-0.8781972890220878,-0.44105677974170987,1.8536834421967812,1.287695437238138,0.7072535593115404,-0.09087612476106814,1.499238479019818,-0.08516471632108662,0.9609284631685308,-0.4191588942320947,-0.9006353499792363,2.2801350497226505,-0.14275215796210713,-0.18198739677732412,-0.8303660713404114,-0.5082299325108094,0.6340387886930664,0.3926642242626088,-0.2695661274773998,-1.6658289497557628,-1.1611389965602616,0.6276276903140016,1.417661439245077,-0.4838034993089419,-1.289388083463128,0.2937379884262438,-0.9333477392161705,1.7442999203851333,0.26005461248395545,-0.12672896107081824,0.9984430886985207,0.9066392237367615,-1.3958292877293246,0.609232405153541,-1.1430465110914445,-0.213017137141056,1.086286575541548,0.40060184663020715,-0.5916220648154642,0.5889768709752585,-0.5443257707603197,0.2550000111264773,1.4958283534689514,-1.6921771604595455,-0.3912387947614228,0.14534284369720282,-0.6575065706533288,0.4228573235836071,-0.35232099771938674,-0.6469096039799158,-1.0754139696081226,1.005331954174107,-0.3379041716037265,-0.9621736486449531,-1.5008916529825636,0.6962775079816627,-0.23971176153528817,0.045202798962545365,-0.2455489527856145,-0.41643297890759967,-0.5888199737091433,-0.25162312187958175,-0.7016145369516383,-0.7448148343733704,-0.4283185457283246,0.08374938351681072,0.580108744640179,0.17483749825297995,0.34627844657006757,0.8719174733189424,1.7282789508443726,-3.140715204843478,1.1840943978777148,0.09736497159738328,1.2990858532231009,0.37024637274467953,0.7476574052263412,1.6230185030339286,-0.5600198150362893,-1.123315935183101,1.1555729793801275,-0.018769375268228805,2.6078665143510116,-0.22090993672248288,0.6767262485720419,0.44548093187255433,-1.1504138134813082,1.9782173359015656,0.09528587366486106,0.41934655429509804,-0.5196603405576297,0.6179542171379991,-0.8257766646655977,0.0920106817831329,0.2309217371659279,-0.5118126617475415,0.9094720800989803,-0.5941971714953718,-1.5641714066609296,-0.7250149354929971,0.9317023524536739,0.9622522459799481,0.07583284403696164,0.6515248068300161,0.6622454667939914,-0.09143898506275133,-0.011687019068759838,0.4012535403312717,-0.01945471895337583,0.9601065298707192,-0.36802654198164836,-1.5888836335804088,-0.21925794765336248,-0.2493695681702932,-0.22565149521839487,-0.012503010536070436,-1.1518160690980286,0.13426018312629265,-0.4139964904401201,-0.7992350533071476,1.0381219357478655,0.09281871868923881,0.5434725391360656,-1.773560518460757,1.1754895639461245,-0.21937270743294715,-0.23727977943256437,1.1175629509598572,-0.8812955891517708,-1.1108581736435028,-0.7233394203532045,0.6518423511392375,0.5638887244863618,-0.9324559607750826,-0.07257648847130431,-0.21341471501818376,0.038215312870983516,-1.6262435872673655,-0.06618833842525561,-0.017293763546799863,-0.4726321003222332,-0.36653467509887955,1.0180454260844312,-1.03519570764314,0.3389318380802772,0.812223337567478,0.8902213847824088,-0.7348828731063483,0.24740508529709995,-0.390977241932368,-0.24349816141185057,1.0035691879772917,0.30352284117021006,-1.3637027433559923,-2.9046565143176446,-1.7156653316972315,-0.43985418482374633,-0.23818554289103908,-0.16982441283701913,-0.12416536028051944,0.29517994800432945,1.127974021329884,-1.876925576926292,-0.7789073083117971,1.048868194426731,-0.3031065002552385,-0.21316942782481593,-1.0400549437061217,0.1443963432098052,0.6831107652316837,0.29555616536760526,0.7505260320695035,1.5052179698984347,0.351952471683062,0.6786431424028757,-1.0212729358912702,0.31023404977390223,0.01421079046500441,1.2133150283485756,-0.8866158028120816,-0.04176143433497564,-0.777240921072566,-0.3310857553406736,1.6445831575159335,-1.6499805010715252,1.793292294259239,-0.1272426126263143,-1.0676272720233113,-0.4986394020245483,1.5231546562886453,1.0040247850102826,0.7371758811967065,0.4036660213850881,-0.42790295784521587,-0.6128811573499702,-1.1626636722189663,1.4110151800842563,-0.9914541467676636,-1.2013169708589466,1.290891399725991,-0.13213410691460678,-0.9354918528133365,1.4318257462145008,-1.339550038029291,0.6303243300355478,0.771946959614705,1.3732392213469538,-0.6069494177580749,-0.02449558822175565,-1.147484768481603,0.07655272096212992,-1.6186033983628658,0.9913004245400878,-0.5615652639744326,1.538081671801961,-1.945692116790448,-0.5286786073953315,0.9601880845977661,0.3968522661868303,0.6801979602789943,0.14225603119150618,0.44060786681145275,-0.6586537214373912,-0.8612836186627151,-1.3886023729777546,0.7876097372095733,-0.5485728851799364,0.2687751232571255,2.0621022432805636,1.3909595930819212,3.520181610538579,0.12732660727325176,-0.05928677419280255,1.7309948326435274,-0.06130187829152743,-0.29010385403458416,-0.42603215676150163,-0.17247157812442115,0.8245890759311156,-1.048096128762741,0.6821600772153675,-0.8140890293236933,0.9657646148765231,0.5788886556152342,0.4104799911665252,1.6355790947437256,-0.5164097230309797,-1.4771145093594844,0.9724698223833527,-1.3668397321848411,1.3307173417477707,1.5029206582980212,1.1354304460760967,1.4716008412679784,0.05026147179214043,0.587866862095619,0.8182048062268973,1.600905020211955,-1.0847250426721835,2.2071938311999535,0.8948045363795778,-0.5178377768773704,-1.2618625696424983,-1.4898629311574805,1.087875975277921,-0.3391000584550678,0.8414596963684104,-1.7236602107756323,1.1548113028618077,-0.5749361687924387,-0.8997819609718234,1.3213850765419812,0.4946119401284745,0.5513702963384528,-0.48603076210750096,-0.7504878647713034,0.9384543056924438,-0.9680208250440654,-0.13162729094013353,-1.7428311019162674,-1.0246309284308492,-0.3029973195632033,-0.2589239237380668,-1.3273999939427537,0.8568474051452982,-0.6081193457518573,-0.8533718126068206,-0.2200903561513782,0.2436919624480701,0.2002530779899242,1.4205852983345133,0.3943555479727485,1.5353439775102222,0.6365803310643398,0.20191748184924538,1.6100989651272533,-0.6575313694170514,0.0052608227889836415,-1.284572731337026,0.49771323943217355,-0.11573117662411021,-1.050750245855353,-0.14583700026117302,-0.7815173575396827,-0.5136627482913498,-0.018889091025607003,0.08654233543103224,0.40601783328247487,1.6558013382578631,-0.45965945681049364,-1.4241509268266408,0.30600323309248456,0.41791055021259077,0.9709609689354972,0.5009729269866801,1.459256199985544,0.28210796566429214,-0.4367044810390087,0.2907263087786034,0.7769196504045904,0.3750286419628293,-1.8838494628187192,0.3761524724569936,-0.48665058519020604,-1.0021118646202118,0.3971716835859568,-1.2492676136185172,0.6025497877271626,0.8996619953205315,-1.7708283128964313,0.3013065613181132,-1.5588474745972674,0.7896301384867401,1.8982436932013222,0.6227279175347086,-0.13030334948397823,-0.6486028467972492,-1.1860206174482346,-0.24915626833305948,0.6373043970931487,-0.4798227135324876,1.0097115542912543,-0.5521275886844245,-0.44040582070546735,0.4419018395646361,-2.192055699130568,0.06498251382575786,-0.374334858457867,0.9664178938259174,2.0459009116378013,0.03709723592564665,-0.8534695823484232,0.1071777191463058,-0.18459282072442257,-0.13814317734638104,0.8811385158742799,-0.739149794644152,1.4941058831559062,-1.2847243456529798,-0.021441140686781872,0.9556147715486298,-2.9093442263557265,1.7141633042458764,0.35333969257464315,0.0744930969956917,-0.5958063348777476,-1.4610636644837414,-0.28489763407326224,-0.9931186229804431,-0.2560818853622516,0.8152956177298614,-0.27220661530040446,1.2686842526725937,0.14999830530099226,-0.16862208305191634,-1.2589685041725895,-1.3426899194331248,1.076985764517472,-0.580953662890991,-1.574213503815354,-1.1673168269127037,-1.5333001598271705,-1.1249060446653276,0.060252184324988675],\"z\":[-1.1042513548185036,-0.711559612563328,-1.2114415417063227,0.8092042078666943,-2.4014285054142945,-1.8410455852773138,1.5604879182415972,0.05996234596655243,-0.6160464636924715,0.7112454831386249,-0.9770204925996181,1.4279284048837264,1.1544240502196426,0.9203794584198217,0.2568628326495673,0.027602949653717988,-0.01677456192130268,-0.3377583470396168,1.3249705770275708,1.8112806971404678,0.613276572968934,0.7953522778010039,0.5176255310133443,-0.6201835964086784,0.6049132285461646,0.2675740613189545,-0.2667626358754262,-0.02267517007268268,-0.4768686940794734,0.26378714704919204,0.8672836486887664,-1.3583314122437369,0.5956667793944551,0.26386308319713647,-0.5017027650433102,-1.3879938505716896,-0.330905722270921,-0.057022419689003095,1.5274661016159585,-0.34349904127371345,-1.2702427874575712,-0.19932561819284608,0.6708285988605929,-0.9264897243722692,-1.1716717717888265,0.6605746107969669,-0.08358026027502978,-1.157784327639925,1.0651269161062487,-0.7187519250837116,1.7039430681299081,0.8525363677813597,0.9677797622751064,-0.5635443148229542,1.0159727601949435,1.085242343838977,-0.10119560133526329,-0.4538319971085448,-1.2576235772337525,0.6146694003155158,-1.014687182123547,0.55334614410138,0.21599536959128976,-0.03114650520940923,-1.022273140030246,-1.7573625196423888,-0.3688173584014448,0.1559969807681836,0.3862290436094739,-0.5554264058030471,-0.7117429580324072,-0.06647669272858357,1.4659614809548123,-1.8824280736963006,0.46395462017365685,-0.02723534605468641,-0.3841787748812482,-1.2554739051288113,2.3003025898837786,0.1861566146386614,-0.184703990248402,0.24944374723131918,-0.2377415443525706,0.5229510415963646,-0.21691793927877506,0.12366219027574216,0.15458259130561045,0.05508339374238222,0.20613260590052707,1.2372734894697586,-0.7486316007927938,2.164766410189642,0.37416491960889325,-0.7199736708896141,-1.8515135668531746,0.27149231085845604,-1.7367377362017997,-0.08112671893918527,0.42888932565995525,-1.7589563251347309,1.257133533596847,-1.3348177771051097,-0.6748429313213343,-1.5419692838340875,0.8652232590651368,1.0918842688422477,-0.5908885105418094,0.3084104356038583,0.9825031944839276,-0.6137108937623927,-0.3545134873113933,0.8207586401265942,0.3546831836869364,2.1800802315967687,-1.1830325403281914,0.2697222950325493,-2.100721147838099,1.471345759254659,0.7662615884615083,-1.0793051429134748,-0.2010191346330819,0.7187784649224807,-0.38534143604544413,-0.3694175820357477,-0.9071080838478249,-0.14630351772308822,0.6942892071037147,1.0897438077756796,-0.051385545801644984,-0.24605677385495578,0.6210678000949026,-1.9063431128372457,0.11709303868109724,-0.7429851341049538,-1.313075711004968,-0.7676278633203784,1.0834973029271908,1.9444904998724242,1.2037799151290955,2.1790370762736244,-1.7711114847719014,1.1912126611250093,1.337351822523319,1.1291285555541382,0.6826270922643262,-0.7863945319244883,0.013518588899733992,1.099818601350438,0.7187314572618028,-0.9380737605630968,0.24066204894014268,-0.2104545482906461,-0.4367907514083555,1.1598885611247414,-0.9683700828730788,1.3071861818975192,0.5920492582828254,-0.6261657799903537,-1.7259994588363987,-0.8675617545808576,0.8803061726539447,0.8915146283970203,-1.1084093009908669,1.8223859083412364,-1.1464980035824308,-0.5905961794989173,0.2250874511623426,0.8926148366715887,1.576413443359162,-0.1573691453433338,-0.1960421779528558,-0.5854454694842586,-0.47690579112522036,0.8713500387971097,0.028307439677373647,0.7069833352914539,1.67141561004668,-0.31163407621697264,0.07007260097201491,1.0794844971249666,0.12321940232605064,1.5031540212009697,0.43776993636998196,0.9784375118585742,-1.8501134675592577,-2.204487547520755,-1.6929889505686382,-0.0018753461953492643,-0.16364997971806386,0.08848928351766279,-1.4280300319307428,0.3040453502321655,0.4901721265702274,1.632453996153521,0.9938037289086032,-1.7082649210854834,-0.5843286954843958,-2.226802405759286,2.2248742156907673,0.4206419579092801,2.33870542632369,-0.9615720280895513,1.060344767637882,-0.6172192417903755,-2.05221881154337,0.04814490679089823,-1.4848354794753649,0.0641895087672622,-0.4553246067601757,-0.23337750588069456,-0.26463420862799014,0.6680520447796588,-2.451350479694717,0.520927275453847,1.387605475227898,0.02248879173633083,1.5878510067680862,-0.43822999743773405,-1.100522143867041,-1.8537758954662886,-0.8767088419373377,-0.17194846393662616,0.33805188821346555,-0.005940660616299085,0.66149310956671,0.6759134015576009,-0.6496728880878023,-2.4106032343361896,0.10672405836580759,0.7045178614812512,-1.4239195683798154,0.08251882945624829,-1.2001625107179528,-0.2531622087761522,-0.575283727222867,1.4885801819100604,-0.7041308238503374,-0.7514395966927367,-1.0913160129112753,-0.23692646540970022,-1.0809824564106671,-0.23191840746668105,-2.1945288355143013,-0.4045011735165434,-0.008791282396219426,-0.5982455818753567,0.4551372596855133,-1.0050765835548199,-0.5661319539065883,-0.9189158060425617,-1.6671547332845955,1.057301834087577,-0.7128822569017506,0.6056140036103947,0.3141480127359447,-1.088907873649394,0.02175995227171857,0.95227705447893,1.139778111467855,-0.022304046789354964,0.6262022287063427,1.4314773316839673,-0.07169236741934108,-0.5940107013770377,2.5703625695503463,1.0612569272259753,0.7262379757103833,1.1252802101382933,0.7061122806745003,-0.15024208454954646,0.11460326589102951,-1.1392593520402523,-0.29657634091284363,-0.7158872467774171,1.135712173153251,-0.6049271597923712,-1.149165203736831,0.43393813668310466,-1.1455050450442932,2.3778653507153575,-1.6284934848038315,-1.829322984832132,-0.5020407249106117,0.32546905162482315,1.0426477197392792,-0.29138276064976415,0.628903192218719,0.035368757418178715,2.3258395645286023,1.3213336230330193,-0.341570425844503,0.6818015265542635,-1.6646606036112022,0.5709013161609903,0.6988182717311318,-0.41556754293431675,0.29939688809003884,0.9545189333518829,-0.3513092992350905,0.7809435715740828,-0.22298737365878848,0.6828332221684437,-0.6825281691210342,0.36830004537535627,-0.44384702375885565,-2.2522087790246537,0.14057213127372972,-0.3954413608932325,0.534745431770394,-1.8153786465534176,-0.47487483661585583,-1.0757996997653243,1.567143665652093,-0.8150451920001096,-0.642779542072957,-1.878495550938325,1.4791637374635271,-0.38862650809392896,0.9181412379134274,-0.48370666201994494,-0.8739611765946539,0.5273877369566243,0.1983629263470115,-0.6789755317359153,0.007273455528077815,-1.3317784768419754,-0.45308330664817753,0.5430432484445431,-1.0555454848555588,0.4648983574109401,-1.9892165614845536,0.7754440264954318,-0.489014202391813,1.5278464827396268,-1.0171360622124117,-1.0015731243600428,0.2523158703335991,1.0928513162761015,1.4964918416661335,-0.5302002863519996,1.0559214945796527,0.02421005813264385,0.8844842315614169,1.008776383046125,0.013453459710969085,-0.28383632361589894,-0.5591298369409667,1.075648900640865,-0.5869997302784471,1.48932244992878,-0.5937365416642316,0.752137031588637,0.8060218641423341,0.051137989666976504,0.8698379312144597,-0.27692172341837834,-0.30304011018844174,-0.4546828588520332,1.1348423059846477,-0.10476116432113661,-0.3424285762237335,-0.37339420558208297,-0.5045733441460516,0.2649674044569407,-1.4867610559113529,0.5248263144877168,-0.3642477458461506,0.07644226944694477,-0.9432980289594537,0.11246128533053001,0.5154013302889058,-0.08679842020594554,-0.3420541500898528,-0.2570993320730103,0.13289782613193848,0.8788303938623319,-1.4443936437313307,0.15289904951728203,0.3350437528813953,-0.174750475381897,-0.2345619349192137,-0.9163769668203856,0.2854046057944894,-0.5473772592800354,0.43764902991544247,0.7516466793484402,-1.4964267730144176,1.3976129675610918,0.9412447505390179,-0.618943058303168,0.8745530480398687,0.20619855309101334,-0.12910919770176696,0.6007117783776449,-0.1997692567032932,-0.5235000422357688,0.644346205333332,2.505499742225245,-0.45651188177384017,0.2558167503989752]}],                        {\"margin\":{\"b\":0,\"l\":0,\"r\":0,\"t\":0},\"template\":{\"data\":{\"bar\":[{\"error_x\":{\"color\":\"#2a3f5f\"},\"error_y\":{\"color\":\"#2a3f5f\"},\"marker\":{\"line\":{\"color\":\"#E5ECF6\",\"width\":0.5},\"pattern\":{\"fillmode\":\"overlay\",\"size\":10,\"solidity\":0.2}},\"type\":\"bar\"}],\"barpolar\":[{\"marker\":{\"line\":{\"color\":\"#E5ECF6\",\"width\":0.5},\"pattern\":{\"fillmode\":\"overlay\",\"size\":10,\"solidity\":0.2}},\"type\":\"barpolar\"}],\"carpet\":[{\"aaxis\":{\"endlinecolor\":\"#2a3f5f\",\"gridcolor\":\"white\",\"linecolor\":\"white\",\"minorgridcolor\":\"white\",\"startlinecolor\":\"#2a3f5f\"},\"baxis\":{\"endlinecolor\":\"#2a3f5f\",\"gridcolor\":\"white\",\"linecolor\":\"white\",\"minorgridcolor\":\"white\",\"startlinecolor\":\"#2a3f5f\"},\"type\":\"carpet\"}],\"choropleth\":[{\"colorbar\":{\"outlinewidth\":0,\"ticks\":\"\"},\"type\":\"choropleth\"}],\"contour\":[{\"colorbar\":{\"outlinewidth\":0,\"ticks\":\"\"},\"colorscale\":[[0.0,\"#0d0887\"],[0.1111111111111111,\"#46039f\"],[0.2222222222222222,\"#7201a8\"],[0.3333333333333333,\"#9c179e\"],[0.4444444444444444,\"#bd3786\"],[0.5555555555555556,\"#d8576b\"],[0.6666666666666666,\"#ed7953\"],[0.7777777777777778,\"#fb9f3a\"],[0.8888888888888888,\"#fdca26\"],[1.0,\"#f0f921\"]],\"type\":\"contour\"}],\"contourcarpet\":[{\"colorbar\":{\"outlinewidth\":0,\"ticks\":\"\"},\"type\":\"contourcarpet\"}],\"heatmap\":[{\"colorbar\":{\"outlinewidth\":0,\"ticks\":\"\"},\"colorscale\":[[0.0,\"#0d0887\"],[0.1111111111111111,\"#46039f\"],[0.2222222222222222,\"#7201a8\"],[0.3333333333333333,\"#9c179e\"],[0.4444444444444444,\"#bd3786\"],[0.5555555555555556,\"#d8576b\"],[0.6666666666666666,\"#ed7953\"],[0.7777777777777778,\"#fb9f3a\"],[0.8888888888888888,\"#fdca26\"],[1.0,\"#f0f921\"]],\"type\":\"heatmap\"}],\"heatmapgl\":[{\"colorbar\":{\"outlinewidth\":0,\"ticks\":\"\"},\"colorscale\":[[0.0,\"#0d0887\"],[0.1111111111111111,\"#46039f\"],[0.2222222222222222,\"#7201a8\"],[0.3333333333333333,\"#9c179e\"],[0.4444444444444444,\"#bd3786\"],[0.5555555555555556,\"#d8576b\"],[0.6666666666666666,\"#ed7953\"],[0.7777777777777778,\"#fb9f3a\"],[0.8888888888888888,\"#fdca26\"],[1.0,\"#f0f921\"]],\"type\":\"heatmapgl\"}],\"histogram\":[{\"marker\":{\"pattern\":{\"fillmode\":\"overlay\",\"size\":10,\"solidity\":0.2}},\"type\":\"histogram\"}],\"histogram2d\":[{\"colorbar\":{\"outlinewidth\":0,\"ticks\":\"\"},\"colorscale\":[[0.0,\"#0d0887\"],[0.1111111111111111,\"#46039f\"],[0.2222222222222222,\"#7201a8\"],[0.3333333333333333,\"#9c179e\"],[0.4444444444444444,\"#bd3786\"],[0.5555555555555556,\"#d8576b\"],[0.6666666666666666,\"#ed7953\"],[0.7777777777777778,\"#fb9f3a\"],[0.8888888888888888,\"#fdca26\"],[1.0,\"#f0f921\"]],\"type\":\"histogram2d\"}],\"histogram2dcontour\":[{\"colorbar\":{\"outlinewidth\":0,\"ticks\":\"\"},\"colorscale\":[[0.0,\"#0d0887\"],[0.1111111111111111,\"#46039f\"],[0.2222222222222222,\"#7201a8\"],[0.3333333333333333,\"#9c179e\"],[0.4444444444444444,\"#bd3786\"],[0.5555555555555556,\"#d8576b\"],[0.6666666666666666,\"#ed7953\"],[0.7777777777777778,\"#fb9f3a\"],[0.8888888888888888,\"#fdca26\"],[1.0,\"#f0f921\"]],\"type\":\"histogram2dcontour\"}],\"mesh3d\":[{\"colorbar\":{\"outlinewidth\":0,\"ticks\":\"\"},\"type\":\"mesh3d\"}],\"parcoords\":[{\"line\":{\"colorbar\":{\"outlinewidth\":0,\"ticks\":\"\"}},\"type\":\"parcoords\"}],\"pie\":[{\"automargin\":true,\"type\":\"pie\"}],\"scatter\":[{\"marker\":{\"colorbar\":{\"outlinewidth\":0,\"ticks\":\"\"}},\"type\":\"scatter\"}],\"scatter3d\":[{\"line\":{\"colorbar\":{\"outlinewidth\":0,\"ticks\":\"\"}},\"marker\":{\"colorbar\":{\"outlinewidth\":0,\"ticks\":\"\"}},\"type\":\"scatter3d\"}],\"scattercarpet\":[{\"marker\":{\"colorbar\":{\"outlinewidth\":0,\"ticks\":\"\"}},\"type\":\"scattercarpet\"}],\"scattergeo\":[{\"marker\":{\"colorbar\":{\"outlinewidth\":0,\"ticks\":\"\"}},\"type\":\"scattergeo\"}],\"scattergl\":[{\"marker\":{\"colorbar\":{\"outlinewidth\":0,\"ticks\":\"\"}},\"type\":\"scattergl\"}],\"scattermapbox\":[{\"marker\":{\"colorbar\":{\"outlinewidth\":0,\"ticks\":\"\"}},\"type\":\"scattermapbox\"}],\"scatterpolar\":[{\"marker\":{\"colorbar\":{\"outlinewidth\":0,\"ticks\":\"\"}},\"type\":\"scatterpolar\"}],\"scatterpolargl\":[{\"marker\":{\"colorbar\":{\"outlinewidth\":0,\"ticks\":\"\"}},\"type\":\"scatterpolargl\"}],\"scatterternary\":[{\"marker\":{\"colorbar\":{\"outlinewidth\":0,\"ticks\":\"\"}},\"type\":\"scatterternary\"}],\"surface\":[{\"colorbar\":{\"outlinewidth\":0,\"ticks\":\"\"},\"colorscale\":[[0.0,\"#0d0887\"],[0.1111111111111111,\"#46039f\"],[0.2222222222222222,\"#7201a8\"],[0.3333333333333333,\"#9c179e\"],[0.4444444444444444,\"#bd3786\"],[0.5555555555555556,\"#d8576b\"],[0.6666666666666666,\"#ed7953\"],[0.7777777777777778,\"#fb9f3a\"],[0.8888888888888888,\"#fdca26\"],[1.0,\"#f0f921\"]],\"type\":\"surface\"}],\"table\":[{\"cells\":{\"fill\":{\"color\":\"#EBF0F8\"},\"line\":{\"color\":\"white\"}},\"header\":{\"fill\":{\"color\":\"#C8D4E3\"},\"line\":{\"color\":\"white\"}},\"type\":\"table\"}]},\"layout\":{\"annotationdefaults\":{\"arrowcolor\":\"#2a3f5f\",\"arrowhead\":0,\"arrowwidth\":1},\"autotypenumbers\":\"strict\",\"coloraxis\":{\"colorbar\":{\"outlinewidth\":0,\"ticks\":\"\"}},\"colorscale\":{\"diverging\":[[0,\"#8e0152\"],[0.1,\"#c51b7d\"],[0.2,\"#de77ae\"],[0.3,\"#f1b6da\"],[0.4,\"#fde0ef\"],[0.5,\"#f7f7f7\"],[0.6,\"#e6f5d0\"],[0.7,\"#b8e186\"],[0.8,\"#7fbc41\"],[0.9,\"#4d9221\"],[1,\"#276419\"]],\"sequential\":[[0.0,\"#0d0887\"],[0.1111111111111111,\"#46039f\"],[0.2222222222222222,\"#7201a8\"],[0.3333333333333333,\"#9c179e\"],[0.4444444444444444,\"#bd3786\"],[0.5555555555555556,\"#d8576b\"],[0.6666666666666666,\"#ed7953\"],[0.7777777777777778,\"#fb9f3a\"],[0.8888888888888888,\"#fdca26\"],[1.0,\"#f0f921\"]],\"sequentialminus\":[[0.0,\"#0d0887\"],[0.1111111111111111,\"#46039f\"],[0.2222222222222222,\"#7201a8\"],[0.3333333333333333,\"#9c179e\"],[0.4444444444444444,\"#bd3786\"],[0.5555555555555556,\"#d8576b\"],[0.6666666666666666,\"#ed7953\"],[0.7777777777777778,\"#fb9f3a\"],[0.8888888888888888,\"#fdca26\"],[1.0,\"#f0f921\"]]},\"colorway\":[\"#636efa\",\"#EF553B\",\"#00cc96\",\"#ab63fa\",\"#FFA15A\",\"#19d3f3\",\"#FF6692\",\"#B6E880\",\"#FF97FF\",\"#FECB52\"],\"font\":{\"color\":\"#2a3f5f\"},\"geo\":{\"bgcolor\":\"white\",\"lakecolor\":\"white\",\"landcolor\":\"#E5ECF6\",\"showlakes\":true,\"showland\":true,\"subunitcolor\":\"white\"},\"hoverlabel\":{\"align\":\"left\"},\"hovermode\":\"closest\",\"mapbox\":{\"style\":\"light\"},\"paper_bgcolor\":\"white\",\"plot_bgcolor\":\"#E5ECF6\",\"polar\":{\"angularaxis\":{\"gridcolor\":\"white\",\"linecolor\":\"white\",\"ticks\":\"\"},\"bgcolor\":\"#E5ECF6\",\"radialaxis\":{\"gridcolor\":\"white\",\"linecolor\":\"white\",\"ticks\":\"\"}},\"scene\":{\"xaxis\":{\"backgroundcolor\":\"#E5ECF6\",\"gridcolor\":\"white\",\"gridwidth\":2,\"linecolor\":\"white\",\"showbackground\":true,\"ticks\":\"\",\"zerolinecolor\":\"white\"},\"yaxis\":{\"backgroundcolor\":\"#E5ECF6\",\"gridcolor\":\"white\",\"gridwidth\":2,\"linecolor\":\"white\",\"showbackground\":true,\"ticks\":\"\",\"zerolinecolor\":\"white\"},\"zaxis\":{\"backgroundcolor\":\"#E5ECF6\",\"gridcolor\":\"white\",\"gridwidth\":2,\"linecolor\":\"white\",\"showbackground\":true,\"ticks\":\"\",\"zerolinecolor\":\"white\"}},\"shapedefaults\":{\"line\":{\"color\":\"#2a3f5f\"}},\"ternary\":{\"aaxis\":{\"gridcolor\":\"white\",\"linecolor\":\"white\",\"ticks\":\"\"},\"baxis\":{\"gridcolor\":\"white\",\"linecolor\":\"white\",\"ticks\":\"\"},\"bgcolor\":\"#E5ECF6\",\"caxis\":{\"gridcolor\":\"white\",\"linecolor\":\"white\",\"ticks\":\"\"}},\"title\":{\"x\":0.05},\"xaxis\":{\"automargin\":true,\"gridcolor\":\"white\",\"linecolor\":\"white\",\"ticks\":\"\",\"title\":{\"standoff\":15},\"zerolinecolor\":\"white\",\"zerolinewidth\":2},\"yaxis\":{\"automargin\":true,\"gridcolor\":\"white\",\"linecolor\":\"white\",\"ticks\":\"\",\"title\":{\"standoff\":15},\"zerolinecolor\":\"white\",\"zerolinewidth\":2}}}},                        {\"responsive\": true}                    ).then(function(){\n",
       "                            \n",
       "var gd = document.getElementById('eb6ce282-d2df-4320-936f-66bec29acccb');\n",
       "var x = new MutationObserver(function (mutations, observer) {{\n",
       "        var display = window.getComputedStyle(gd).display;\n",
       "        if (!display || display === 'none') {{\n",
       "            console.log([gd, 'removed!']);\n",
       "            Plotly.purge(gd);\n",
       "            observer.disconnect();\n",
       "        }}\n",
       "}});\n",
       "\n",
       "// Listen for the removal of the full notebook cells\n",
       "var notebookContainer = gd.closest('#notebook-container');\n",
       "if (notebookContainer) {{\n",
       "    x.observe(notebookContainer, {childList: true});\n",
       "}}\n",
       "\n",
       "// Listen for the clearing of the current output cell\n",
       "var outputEl = gd.closest('.output');\n",
       "if (outputEl) {{\n",
       "    x.observe(outputEl, {childList: true});\n",
       "}}\n",
       "\n",
       "                        })                };                });            </script>        </div>"
      ]
     },
     "metadata": {},
     "output_type": "display_data"
    }
   ],
   "source": [
    "#3D圖形\n",
    "from chart_studio import plotly\n",
    "import plotly.offline as pyoff\n",
    "import plotly.graph_objs as go\n",
    "import numpy as np\n",
    "\n",
    "x, y, z=np.random.multivariate_normal(np.array([0,0,0]), np.eye(3), 400).transpose()\n",
    "\n",
    "trace1=go.Scatter3d(x=x, y=y, z=z, mode='markers', marker=dict(size=12, color=z, colorscale='Viridis', opacity=0.8))\n",
    "data=[trace1]\n",
    "layout=go.Layout(margin=dict(l=0, r=0, b=0, t=0))\n",
    "fig=go.Figure(data=data, layout=layout)\n",
    "pyoff.iplot(fig, filename='3d-scatter-colorscale')"
   ]
  },
  {
   "cell_type": "code",
   "execution_count": null,
   "metadata": {},
   "outputs": [],
   "source": []
  }
 ],
 "metadata": {
  "kernelspec": {
   "display_name": "Python 3",
   "language": "python",
   "name": "python3"
  },
  "language_info": {
   "codemirror_mode": {
    "name": "ipython",
    "version": 3
   },
   "file_extension": ".py",
   "mimetype": "text/x-python",
   "name": "python",
   "nbconvert_exporter": "python",
   "pygments_lexer": "ipython3",
   "version": "3.7.6"
  }
 },
 "nbformat": 4,
 "nbformat_minor": 4
}
